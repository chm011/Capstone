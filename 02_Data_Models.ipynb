{
 "cells": [
  {
   "cell_type": "markdown",
   "id": "e59c1bd3-16bf-402c-babb-e62b9f9a7589",
   "metadata": {},
   "source": [
    "# Part 2:Data Models"
   ]
  },
  {
   "cell_type": "markdown",
   "id": "8c6f3ec0-e107-4858-b6c3-8da3d867944d",
   "metadata": {},
   "source": [
    "## Importing libraries"
   ]
  },
  {
   "cell_type": "code",
   "execution_count": 11,
   "id": "0e391df1-f9c0-4486-8c32-3a88a5308ba5",
   "metadata": {},
   "outputs": [],
   "source": [
    "import pandas as pd\n",
    "import numpy as np\n",
    "import matplotlib.pyplot as plt\n",
    "import seaborn as sns\n",
    "from sklearn.model_selection import train_test_split\n",
    "from sklearn.preprocessing import LabelEncoder, StandardScaler,OneHotEncoder\n",
    "from sklearn.linear_model import LogisticRegression\n",
    "from sklearn.metrics import classification_report, accuracy_score\n",
    "import tensorflow as tf\n",
    "from tensorflow import keras\n",
    "from tensorflow.keras import backend as K\n",
    "from tensorflow.keras.models import Sequential\n",
    "from tensorflow.keras.layers import Dense, Dropout\n",
    "from tensorflow.keras.optimizers import Adam\n",
    "from tensorflow.keras.regularizers import l2\n",
    "from sklearn.utils.class_weight import compute_class_weight"
   ]
  },
  {
   "cell_type": "markdown",
   "id": "c392e13d-16a4-4714-8afe-24cf5641c947",
   "metadata": {},
   "source": [
    "## Importing Data"
   ]
  },
  {
   "cell_type": "code",
   "execution_count": 12,
   "id": "a1122fc2-79fa-49d3-9729-e0d24bec89b9",
   "metadata": {
    "scrolled": true
   },
   "outputs": [
    {
     "data": {
      "text/html": [
       "<div>\n",
       "<style scoped>\n",
       "    .dataframe tbody tr th:only-of-type {\n",
       "        vertical-align: middle;\n",
       "    }\n",
       "\n",
       "    .dataframe tbody tr th {\n",
       "        vertical-align: top;\n",
       "    }\n",
       "\n",
       "    .dataframe thead th {\n",
       "        text-align: right;\n",
       "    }\n",
       "</style>\n",
       "<table border=\"1\" class=\"dataframe\">\n",
       "  <thead>\n",
       "    <tr style=\"text-align: right;\">\n",
       "      <th></th>\n",
       "      <th>CASE_NUMBER</th>\n",
       "      <th>CASE_STATUS</th>\n",
       "      <th>RECEIVED_DATE</th>\n",
       "      <th>DECISION_DATE</th>\n",
       "      <th>ORIGINAL_CERT_DATE</th>\n",
       "      <th>VISA_CLASS</th>\n",
       "      <th>JOB_TITLE</th>\n",
       "      <th>SOC_CODE</th>\n",
       "      <th>SOC_TITLE</th>\n",
       "      <th>FULL_TIME_POSITION</th>\n",
       "      <th>...</th>\n",
       "      <th>WILLFUL_VIOLATOR</th>\n",
       "      <th>SUPPORT_H1B</th>\n",
       "      <th>STATUTORY_BASIS</th>\n",
       "      <th>APPENDIX_A_ATTACHED</th>\n",
       "      <th>PUBLIC_DISCLOSURE</th>\n",
       "      <th>PREPARER_LAST_NAME</th>\n",
       "      <th>PREPARER_FIRST_NAME</th>\n",
       "      <th>PREPARER_MIDDLE_INITIAL</th>\n",
       "      <th>PREPARER_BUSINESS_NAME</th>\n",
       "      <th>PREPARER_EMAIL</th>\n",
       "    </tr>\n",
       "  </thead>\n",
       "  <tbody>\n",
       "    <tr>\n",
       "      <th>0</th>\n",
       "      <td>I-200-19268-393467</td>\n",
       "      <td>Certified</td>\n",
       "      <td>2019-09-25</td>\n",
       "      <td>2019-10-01</td>\n",
       "      <td>NaN</td>\n",
       "      <td>H-1B</td>\n",
       "      <td>APPLICATION ENGINEER, OMS [15-1199.02]</td>\n",
       "      <td>15-1199</td>\n",
       "      <td>COMPUTER OCCUPATIONS, ALL OTHER</td>\n",
       "      <td>Y</td>\n",
       "      <td>...</td>\n",
       "      <td>N</td>\n",
       "      <td>NaN</td>\n",
       "      <td>NaN</td>\n",
       "      <td>NaN</td>\n",
       "      <td>Disclose Business</td>\n",
       "      <td>NaN</td>\n",
       "      <td>NaN</td>\n",
       "      <td>NaN</td>\n",
       "      <td>NaN</td>\n",
       "      <td>NaN</td>\n",
       "    </tr>\n",
       "    <tr>\n",
       "      <th>1</th>\n",
       "      <td>I-200-19268-638983</td>\n",
       "      <td>Certified</td>\n",
       "      <td>2019-09-25</td>\n",
       "      <td>2019-10-01</td>\n",
       "      <td>NaN</td>\n",
       "      <td>H-1B</td>\n",
       "      <td>BI DEVELOPER II</td>\n",
       "      <td>15-1132</td>\n",
       "      <td>SOFTWARE DEVELOPERS, APPLICATIONS</td>\n",
       "      <td>Y</td>\n",
       "      <td>...</td>\n",
       "      <td>N</td>\n",
       "      <td>Y</td>\n",
       "      <td>BOTH</td>\n",
       "      <td>NaN</td>\n",
       "      <td>Disclose Business</td>\n",
       "      <td>NaN</td>\n",
       "      <td>NaN</td>\n",
       "      <td>NaN</td>\n",
       "      <td>NaN</td>\n",
       "      <td>NaN</td>\n",
       "    </tr>\n",
       "    <tr>\n",
       "      <th>2</th>\n",
       "      <td>I-200-19268-177184</td>\n",
       "      <td>Certified</td>\n",
       "      <td>2019-09-25</td>\n",
       "      <td>2019-10-01</td>\n",
       "      <td>NaN</td>\n",
       "      <td>H-1B</td>\n",
       "      <td>QUALITY ENGINEER</td>\n",
       "      <td>17-2141</td>\n",
       "      <td>MECHANICAL ENGINEERS</td>\n",
       "      <td>Y</td>\n",
       "      <td>...</td>\n",
       "      <td>N</td>\n",
       "      <td>Y</td>\n",
       "      <td>BOTH</td>\n",
       "      <td>NaN</td>\n",
       "      <td>Disclose Business</td>\n",
       "      <td>NaN</td>\n",
       "      <td>NaN</td>\n",
       "      <td>NaN</td>\n",
       "      <td>NaN</td>\n",
       "      <td>NaN</td>\n",
       "    </tr>\n",
       "    <tr>\n",
       "      <th>3</th>\n",
       "      <td>I-200-19268-936403</td>\n",
       "      <td>Certified</td>\n",
       "      <td>2019-09-25</td>\n",
       "      <td>2019-10-01</td>\n",
       "      <td>NaN</td>\n",
       "      <td>H-1B</td>\n",
       "      <td>SOFTWARE DEVELOPER, APPLICATIONS</td>\n",
       "      <td>15-1132</td>\n",
       "      <td>SOFTWARE DEVELOPERS, APPLICATIONS</td>\n",
       "      <td>Y</td>\n",
       "      <td>...</td>\n",
       "      <td>N</td>\n",
       "      <td>Y</td>\n",
       "      <td>BOTH</td>\n",
       "      <td>NaN</td>\n",
       "      <td>Disclose Business</td>\n",
       "      <td>NaN</td>\n",
       "      <td>NaN</td>\n",
       "      <td>NaN</td>\n",
       "      <td>NaN</td>\n",
       "      <td>NaN</td>\n",
       "    </tr>\n",
       "    <tr>\n",
       "      <th>4</th>\n",
       "      <td>I-200-19268-394079</td>\n",
       "      <td>Certified</td>\n",
       "      <td>2019-09-25</td>\n",
       "      <td>2019-10-01</td>\n",
       "      <td>NaN</td>\n",
       "      <td>H-1B</td>\n",
       "      <td>QUALITY ENGINEER LEVEL II</td>\n",
       "      <td>15-1199</td>\n",
       "      <td>COMPUTER OCCUPATIONS, ALL OTHER</td>\n",
       "      <td>Y</td>\n",
       "      <td>...</td>\n",
       "      <td>N</td>\n",
       "      <td>Y</td>\n",
       "      <td>BOTH</td>\n",
       "      <td>NaN</td>\n",
       "      <td>Disclose Business</td>\n",
       "      <td>NaN</td>\n",
       "      <td>NaN</td>\n",
       "      <td>NaN</td>\n",
       "      <td>NaN</td>\n",
       "      <td>LEGAL@THEEGIANTS.COM</td>\n",
       "    </tr>\n",
       "  </tbody>\n",
       "</table>\n",
       "<p>5 rows × 96 columns</p>\n",
       "</div>"
      ],
      "text/plain": [
       "          CASE_NUMBER CASE_STATUS RECEIVED_DATE DECISION_DATE  \\\n",
       "0  I-200-19268-393467   Certified    2019-09-25    2019-10-01   \n",
       "1  I-200-19268-638983   Certified    2019-09-25    2019-10-01   \n",
       "2  I-200-19268-177184   Certified    2019-09-25    2019-10-01   \n",
       "3  I-200-19268-936403   Certified    2019-09-25    2019-10-01   \n",
       "4  I-200-19268-394079   Certified    2019-09-25    2019-10-01   \n",
       "\n",
       "  ORIGINAL_CERT_DATE VISA_CLASS                               JOB_TITLE  \\\n",
       "0                NaN       H-1B  APPLICATION ENGINEER, OMS [15-1199.02]   \n",
       "1                NaN       H-1B                         BI DEVELOPER II   \n",
       "2                NaN       H-1B                        QUALITY ENGINEER   \n",
       "3                NaN       H-1B        SOFTWARE DEVELOPER, APPLICATIONS   \n",
       "4                NaN       H-1B               QUALITY ENGINEER LEVEL II   \n",
       "\n",
       "  SOC_CODE                          SOC_TITLE FULL_TIME_POSITION  ...  \\\n",
       "0  15-1199    COMPUTER OCCUPATIONS, ALL OTHER                  Y  ...   \n",
       "1  15-1132  SOFTWARE DEVELOPERS, APPLICATIONS                  Y  ...   \n",
       "2  17-2141               MECHANICAL ENGINEERS                  Y  ...   \n",
       "3  15-1132  SOFTWARE DEVELOPERS, APPLICATIONS                  Y  ...   \n",
       "4  15-1199    COMPUTER OCCUPATIONS, ALL OTHER                  Y  ...   \n",
       "\n",
       "  WILLFUL_VIOLATOR SUPPORT_H1B  STATUTORY_BASIS  APPENDIX_A_ATTACHED  \\\n",
       "0                N         NaN              NaN                  NaN   \n",
       "1                N           Y             BOTH                  NaN   \n",
       "2                N           Y             BOTH                  NaN   \n",
       "3                N           Y             BOTH                  NaN   \n",
       "4                N           Y             BOTH                  NaN   \n",
       "\n",
       "   PUBLIC_DISCLOSURE  PREPARER_LAST_NAME  PREPARER_FIRST_NAME  \\\n",
       "0  Disclose Business                 NaN                  NaN   \n",
       "1  Disclose Business                 NaN                  NaN   \n",
       "2  Disclose Business                 NaN                  NaN   \n",
       "3  Disclose Business                 NaN                  NaN   \n",
       "4  Disclose Business                 NaN                  NaN   \n",
       "\n",
       "   PREPARER_MIDDLE_INITIAL  PREPARER_BUSINESS_NAME        PREPARER_EMAIL  \n",
       "0                      NaN                     NaN                   NaN  \n",
       "1                      NaN                     NaN                   NaN  \n",
       "2                      NaN                     NaN                   NaN  \n",
       "3                      NaN                     NaN                   NaN  \n",
       "4                      NaN                     NaN  LEGAL@THEEGIANTS.COM  \n",
       "\n",
       "[5 rows x 96 columns]"
      ]
     },
     "execution_count": 12,
     "metadata": {},
     "output_type": "execute_result"
    }
   ],
   "source": [
    "#importing data\n",
    "#df = pd.read_csv('Combined_LCA_Disclosure_Data_FY2020_to_FY2024.csv', low_memory=False)\n",
    "df2020 = pd.read_csv('Combined_LCA_Disclosure_Data_FY2020.csv', low_memory=False)\n",
    "df2021 = pd.read_csv('Combined_LCA_Disclosure_Data_FY2021.csv', low_memory=False)\n",
    "df2022 = pd.read_csv('Combined_LCA_Disclosure_Data_FY2022.csv', low_memory=False)\n",
    "df2023 = pd.read_csv('Combined_LCA_Disclosure_Data_FY2023.csv', low_memory=False)\n",
    "df2024 = pd.read_csv('Combined_LCA_Disclosure_Data_FY2024.csv', low_memory=False)\n",
    "all_data = [df2020, df2021,df2022,df2023,df2024]\n",
    "\n",
    "df = pd.concat(all_data)\n",
    "df.head(5)"
   ]
  },
  {
   "cell_type": "code",
   "execution_count": 13,
   "id": "5ab03d2d-98d7-497d-a795-c9a888b491b0",
   "metadata": {},
   "outputs": [],
   "source": [
    "# Delete previous dataframes to free memory\n",
    "del df2020, df2021, df2022, df2023, df2024, all_data"
   ]
  },
  {
   "cell_type": "markdown",
   "id": "cc311b32-6205-4a1e-be5f-77a9d9d5f5e7",
   "metadata": {},
   "source": [
    "## Basic Data Processing "
   ]
  },
  {
   "cell_type": "markdown",
   "id": "3978521b-689a-4811-98f3-688de36abfab",
   "metadata": {},
   "source": [
    "### 1. Finding Annual Wage"
   ]
  },
  {
   "cell_type": "code",
   "execution_count": 14,
   "id": "cb04865e-a429-4efc-b885-4aa4f1346b69",
   "metadata": {},
   "outputs": [
    {
     "name": "stdout",
     "output_type": "stream",
     "text": [
      "['Year' 'Hour' 'Bi-Weekly' nan 'Month' 'Week']\n"
     ]
    }
   ],
   "source": [
    "#Salary Analysis\n",
    "#Clean and convert salaries to numeric, handling outliers\n",
    "\n",
    "unique_units = df['PW_UNIT_OF_PAY'].unique()\n",
    "print(unique_units)"
   ]
  },
  {
   "cell_type": "code",
   "execution_count": 15,
   "id": "03e22fc7-83ec-49aa-9169-2ab12dcf81f3",
   "metadata": {},
   "outputs": [],
   "source": [
    "#\"Prevailing Wage\" * conversion factors to find annual wage\n",
    "df['PREVAILING_WAGE'] = pd.to_numeric(df['PREVAILING_WAGE'], errors='coerce')\n",
    "df = df[df['PREVAILING_WAGE'] > 0]  # Filter out non-positive values\n",
    "\n",
    "conversion_factors = {\n",
    "    'Year': 1,            # No Normalization\n",
    "    'Month': 12,          # 12 months in a year\n",
    "    'Bi-Weekly': 26,      # 26 bi-weekly periods in a year\n",
    "    'Week': 52,           # 52 weeks in a year\n",
    "    'Hour': 2080          # 52 weeks in a year x 40 hrs a week\n",
    "}\n",
    "\n",
    "df['ANNUAL_WAGE'] = df.apply(\n",
    "    lambda row: row['PREVAILING_WAGE'] * conversion_factors.get(row['PW_UNIT_OF_PAY'], 1),\n",
    "    axis=1\n",
    ")"
   ]
  },
  {
   "cell_type": "code",
   "execution_count": 6,
   "id": "94481e62-862e-4718-ba5b-a6152dfc670a",
   "metadata": {},
   "outputs": [
    {
     "name": "stdout",
     "output_type": "stream",
     "text": [
      "    PREVAILING_WAGE PW_UNIT_OF_PAY  ANNUAL_WAGE\n",
      "1              39.0           Hour      81120.0\n",
      "2              39.0           Hour      81120.0\n",
      "3              53.0           Hour     110240.0\n",
      "59             28.0           Hour      58240.0\n",
      "60             29.0           Hour      60320.0\n"
     ]
    }
   ],
   "source": [
    "print(df[df['PW_UNIT_OF_PAY'] == 'Hour'][['PREVAILING_WAGE', 'PW_UNIT_OF_PAY', 'ANNUAL_WAGE']].head())"
   ]
  },
  {
   "cell_type": "markdown",
   "id": "50433b2e-eccd-4a8d-88f0-0683dbf54619",
   "metadata": {},
   "source": [
    "### 2. Finding Decision Duration of Applications"
   ]
  },
  {
   "cell_type": "code",
   "execution_count": 16,
   "id": "937a9958-901f-4bf0-8a3a-1bb6fb5ab17b",
   "metadata": {
    "scrolled": true
   },
   "outputs": [
    {
     "data": {
      "text/plain": [
       "0    6 days\n",
       "1   99 days\n",
       "2    2 days\n",
       "Name: Decision_Duration, dtype: timedelta64[ns]"
      ]
     },
     "execution_count": 16,
     "metadata": {},
     "output_type": "execute_result"
    }
   ],
   "source": [
    "#get the processing time from subtracting decision date and start date and case status is certified\n",
    "#processing the time into usable format\n",
    "\n",
    "df['BEGIN_DATE'] = pd.to_datetime(df['BEGIN_DATE'])\n",
    "df['DECISION_DATE'] = pd.to_datetime(df['DECISION_DATE'])\n",
    "df['RECEIVED_DATE'] = pd.to_datetime(df['RECEIVED_DATE'])\n",
    "\n",
    "df['Decision_Duration'] = df['BEGIN_DATE'] - df['DECISION_DATE']\n",
    "\n",
    "df.Decision_Duration.head(3)"
   ]
  },
  {
   "cell_type": "code",
   "execution_count": 17,
   "id": "f09dd8c3-97a6-4c14-b748-ab71f58446cf",
   "metadata": {},
   "outputs": [
    {
     "data": {
      "text/plain": [
       "CASE_STATUS\n",
       "Certified                3292311\n",
       "Certified - Withdrawn     184634\n",
       "Withdrawn                  64014\n",
       "Denied                     21777\n",
       "Name: count, dtype: int64"
      ]
     },
     "execution_count": 17,
     "metadata": {},
     "output_type": "execute_result"
    }
   ],
   "source": [
    "#selecting features based on correlation coefficients from last section\n",
    "selectdf = df.loc[:, ['CASE_STATUS','ANNUAL_WAGE','SUPPORT_H1B','EMPLOYER_NAME','AGENT_ATTORNEY_CITY','WORKSITE_WORKERS','TOTAL_WORKER_POSITIONS','RECEIVED_DATE','Decision_Duration']]\n",
    "\n",
    "selectdf.CASE_STATUS.value_counts()"
   ]
  },
  {
   "cell_type": "code",
   "execution_count": 18,
   "id": "15c8cbe0-1be9-4d6e-82c0-527f656447ae",
   "metadata": {},
   "outputs": [
    {
     "data": {
      "text/html": [
       "<div>\n",
       "<style scoped>\n",
       "    .dataframe tbody tr th:only-of-type {\n",
       "        vertical-align: middle;\n",
       "    }\n",
       "\n",
       "    .dataframe tbody tr th {\n",
       "        vertical-align: top;\n",
       "    }\n",
       "\n",
       "    .dataframe thead th {\n",
       "        text-align: right;\n",
       "    }\n",
       "</style>\n",
       "<table border=\"1\" class=\"dataframe\">\n",
       "  <thead>\n",
       "    <tr style=\"text-align: right;\">\n",
       "      <th></th>\n",
       "      <th>CASE_STATUS</th>\n",
       "      <th>ANNUAL_WAGE</th>\n",
       "      <th>SUPPORT_H1B</th>\n",
       "      <th>EMPLOYER_NAME</th>\n",
       "      <th>AGENT_ATTORNEY_CITY</th>\n",
       "      <th>WORKSITE_WORKERS</th>\n",
       "      <th>TOTAL_WORKER_POSITIONS</th>\n",
       "      <th>RECEIVED_DATE</th>\n",
       "      <th>Decision_Duration</th>\n",
       "    </tr>\n",
       "  </thead>\n",
       "  <tbody>\n",
       "    <tr>\n",
       "      <th>0</th>\n",
       "      <td>0</td>\n",
       "      <td>95118.0</td>\n",
       "      <td>4</td>\n",
       "      <td>89786</td>\n",
       "      <td>494</td>\n",
       "      <td>82</td>\n",
       "      <td>1</td>\n",
       "      <td>223</td>\n",
       "      <td>1349</td>\n",
       "    </tr>\n",
       "    <tr>\n",
       "      <th>1</th>\n",
       "      <td>0</td>\n",
       "      <td>81120.0</td>\n",
       "      <td>2</td>\n",
       "      <td>47200</td>\n",
       "      <td>1296</td>\n",
       "      <td>82</td>\n",
       "      <td>1</td>\n",
       "      <td>223</td>\n",
       "      <td>1442</td>\n",
       "    </tr>\n",
       "    <tr>\n",
       "      <th>2</th>\n",
       "      <td>0</td>\n",
       "      <td>81120.0</td>\n",
       "      <td>2</td>\n",
       "      <td>55202</td>\n",
       "      <td>2742</td>\n",
       "      <td>82</td>\n",
       "      <td>1</td>\n",
       "      <td>223</td>\n",
       "      <td>1345</td>\n",
       "    </tr>\n",
       "    <tr>\n",
       "      <th>3</th>\n",
       "      <td>0</td>\n",
       "      <td>110240.0</td>\n",
       "      <td>2</td>\n",
       "      <td>150953</td>\n",
       "      <td>3155</td>\n",
       "      <td>82</td>\n",
       "      <td>1</td>\n",
       "      <td>223</td>\n",
       "      <td>1349</td>\n",
       "    </tr>\n",
       "    <tr>\n",
       "      <th>4</th>\n",
       "      <td>0</td>\n",
       "      <td>65333.0</td>\n",
       "      <td>2</td>\n",
       "      <td>53537</td>\n",
       "      <td>3155</td>\n",
       "      <td>82</td>\n",
       "      <td>1</td>\n",
       "      <td>223</td>\n",
       "      <td>1351</td>\n",
       "    </tr>\n",
       "  </tbody>\n",
       "</table>\n",
       "</div>"
      ],
      "text/plain": [
       "   CASE_STATUS  ANNUAL_WAGE  SUPPORT_H1B  EMPLOYER_NAME  AGENT_ATTORNEY_CITY  \\\n",
       "0            0      95118.0            4          89786                  494   \n",
       "1            0      81120.0            2          47200                 1296   \n",
       "2            0      81120.0            2          55202                 2742   \n",
       "3            0     110240.0            2         150953                 3155   \n",
       "4            0      65333.0            2          53537                 3155   \n",
       "\n",
       "   WORKSITE_WORKERS  TOTAL_WORKER_POSITIONS  RECEIVED_DATE  Decision_Duration  \n",
       "0                82                       1            223               1349  \n",
       "1                82                       1            223               1442  \n",
       "2                82                       1            223               1345  \n",
       "3                82                       1            223               1349  \n",
       "4                82                       1            223               1351  "
      ]
     },
     "execution_count": 18,
     "metadata": {},
     "output_type": "execute_result"
    }
   ],
   "source": [
    "'''\n",
    "Preprocessing features\n",
    "#:'Decision_Duration','TOTAL_WORKER_POSITIONS','ANNUAL_WAGE'\n",
    "Categorical: 'CASE_STATUS','SUPPORT_H1B','EMPLOYER_NAME','AGENT_ATTORNEY_CITY','WORKSITE_WORKERS','RECEIVED_DATE']]\n",
    "'''\n",
    "cat_columns = ['CASE_STATUS','Decision_Duration','SUPPORT_H1B','EMPLOYER_NAME','AGENT_ATTORNEY_CITY','WORKSITE_WORKERS','RECEIVED_DATE']\n",
    "for col in cat_columns:\n",
    "    label_encoder = LabelEncoder()\n",
    "    selectdf[col] = label_encoder.fit_transform(selectdf[col])\n",
    "\n",
    "selectdf.head(5)\n"
   ]
  },
  {
   "cell_type": "code",
   "execution_count": 19,
   "id": "e90de7e1-93ed-40c5-9e1d-1a8d4134fc55",
   "metadata": {},
   "outputs": [
    {
     "data": {
      "text/plain": [
       "CASE_STATUS\n",
       "0    3292311\n",
       "1     184634\n",
       "3      64014\n",
       "2      21777\n",
       "Name: count, dtype: int64"
      ]
     },
     "execution_count": 19,
     "metadata": {},
     "output_type": "execute_result"
    }
   ],
   "source": [
    "selectdf.CASE_STATUS.value_counts()"
   ]
  },
  {
   "cell_type": "code",
   "execution_count": 20,
   "id": "50fe5317-0295-4da2-a384-1c7aadab464a",
   "metadata": {},
   "outputs": [],
   "source": [
    "#target variable and the selected features from above\n",
    "X = selectdf[['RECEIVED_DATE','Decision_Duration', 'TOTAL_WORKER_POSITIONS', 'ANNUAL_WAGE', 'SUPPORT_H1B', 'EMPLOYER_NAME','AGENT_ATTORNEY_CITY', 'WORKSITE_WORKERS', 'RECEIVED_DATE']]\n",
    "y = selectdf['CASE_STATUS']\n",
    "\n",
    "# Standardize numerical features\n",
    "scaler = StandardScaler()\n",
    "X[['Decision_Duration', 'TOTAL_WORKER_POSITIONS', 'ANNUAL_WAGE']] = scaler.fit_transform(X[['Decision_Duration', 'TOTAL_WORKER_POSITIONS', 'ANNUAL_WAGE']])\n",
    "\n",
    "# Split dataset into train and test sets (80/20)\n",
    "X_train, X_test, y_train, y_test = train_test_split(X, y, test_size=0.2)\n"
   ]
  },
  {
   "cell_type": "markdown",
   "id": "c300b027-3fad-45b9-809b-ec1f246fae9a",
   "metadata": {
    "jp-MarkdownHeadingCollapsed": true
   },
   "source": [
    "## Logistic Regression"
   ]
  },
  {
   "cell_type": "code",
   "execution_count": 12,
   "id": "dbfcb016-e4fe-4555-a1aa-6917d1bb6867",
   "metadata": {},
   "outputs": [
    {
     "name": "stderr",
     "output_type": "stream",
     "text": [
      "/Users/christie/GitHub/Capstone/.conda/lib/python3.12/site-packages/sklearn/linear_model/_sag.py:348: ConvergenceWarning: The max_iter was reached which means the coef_ did not converge\n",
      "  warnings.warn(\n"
     ]
    }
   ],
   "source": [
    "#Setting up model\n",
    "lgmodel = LogisticRegression(max_iter=100, solver='saga', class_weight='balanced')\n",
    "lgmodel.fit(X_train, y_train)\n",
    "\n",
    "# Predictions\n",
    "y_pred = lgmodel.predict(X_test)\n"
   ]
  },
  {
   "cell_type": "code",
   "execution_count": 13,
   "id": "3a1e7869-e24d-43d0-8cba-0d1b9a547bf1",
   "metadata": {},
   "outputs": [
    {
     "name": "stderr",
     "output_type": "stream",
     "text": [
      "/Users/christie/GitHub/Capstone/.conda/lib/python3.12/site-packages/sklearn/metrics/_classification.py:1565: UndefinedMetricWarning: Precision is ill-defined and being set to 0.0 in labels with no predicted samples. Use `zero_division` parameter to control this behavior.\n",
      "  _warn_prf(average, modifier, f\"{metric.capitalize()} is\", len(result))\n",
      "/Users/christie/GitHub/Capstone/.conda/lib/python3.12/site-packages/sklearn/metrics/_classification.py:1565: UndefinedMetricWarning: Precision is ill-defined and being set to 0.0 in labels with no predicted samples. Use `zero_division` parameter to control this behavior.\n",
      "  _warn_prf(average, modifier, f\"{metric.capitalize()} is\", len(result))\n",
      "/Users/christie/GitHub/Capstone/.conda/lib/python3.12/site-packages/sklearn/metrics/_classification.py:1565: UndefinedMetricWarning: Precision is ill-defined and being set to 0.0 in labels with no predicted samples. Use `zero_division` parameter to control this behavior.\n",
      "  _warn_prf(average, modifier, f\"{metric.capitalize()} is\", len(result))\n"
     ]
    },
    {
     "data": {
      "text/plain": [
       "(0.6709148015291602,\n",
       " '              precision    recall  f1-score   support\\n\\n           0       0.92      0.72      0.81    658452\\n           1       0.16      0.00      0.01     37037\\n           2       0.01      0.27      0.01      4339\\n           3       0.00      0.00      0.00     12720\\n\\n    accuracy                           0.67    712548\\n   macro avg       0.27      0.25      0.21    712548\\nweighted avg       0.86      0.67      0.75    712548\\n')"
      ]
     },
     "execution_count": 13,
     "metadata": {},
     "output_type": "execute_result"
    }
   ],
   "source": [
    "# Evaluate the model\n",
    "lgaccuracy = accuracy_score(y_test, y_pred)\n",
    "lgreport_dict = classification_report(y_test, y_pred,output_dict=True)\n",
    "lg_report = pd.DataFrame(lgreport_dict).T\n",
    "\n",
    "lg_report"
   ]
  },
  {
   "cell_type": "code",
   "execution_count": 94,
   "id": "582bda36",
   "metadata": {},
   "outputs": [
    {
     "name": "stdout",
     "output_type": "stream",
     "text": [
      "y_test shape: (712548, 4), dtype: float64\n",
      "y_pred shape: (712548,), dtype: int64\n",
      "Unique values in y_test: [0. 1.]\n",
      "Unique values in y_pred: [0 1 2]\n"
     ]
    }
   ],
   "source": [
    "print(f\"y_test shape: {y_test.shape}, dtype: {y_test.dtype}\")\n",
    "print(f\"y_pred shape: {y_pred.shape}, dtype: {y_pred.dtype}\")\n",
    "\n",
    "print(\"Unique values in y_test:\", np.unique(y_test))\n",
    "print(\"Unique values in y_pred:\", np.unique(y_pred))\n",
    "\n"
   ]
  },
  {
   "cell_type": "code",
   "execution_count": null,
   "id": "a83be128",
   "metadata": {},
   "outputs": [
    {
     "name": "stdout",
     "output_type": "stream",
     "text": [
      "              precision    recall  f1-score        support\n",
      "0              0.923894  0.725801  0.812954  658273.000000\n",
      "1              0.049197  0.001328  0.002585   36911.000000\n",
      "2              0.006121  0.273941  0.011974    4344.000000\n",
      "3              0.000000  0.000000  0.000000   13020.000000\n",
      "accuracy       0.672255  0.672255  0.672255       0.672255\n",
      "macro avg      0.244803  0.250267  0.206878  712548.000000\n",
      "weighted avg   0.856106  0.672255  0.751238  712548.000000\n",
      "Model Accuracy: 0.6723\n"
     ]
    },
    {
     "name": "stderr",
     "output_type": "stream",
     "text": [
      "/Users/christie/GitHub/Capstone/.conda/lib/python3.12/site-packages/sklearn/metrics/_classification.py:1565: UndefinedMetricWarning: Precision is ill-defined and being set to 0.0 in labels with no predicted samples. Use `zero_division` parameter to control this behavior.\n",
      "  _warn_prf(average, modifier, f\"{metric.capitalize()} is\", len(result))\n",
      "/Users/christie/GitHub/Capstone/.conda/lib/python3.12/site-packages/sklearn/metrics/_classification.py:1565: UndefinedMetricWarning: Precision is ill-defined and being set to 0.0 in labels with no predicted samples. Use `zero_division` parameter to control this behavior.\n",
      "  _warn_prf(average, modifier, f\"{metric.capitalize()} is\", len(result))\n",
      "/Users/christie/GitHub/Capstone/.conda/lib/python3.12/site-packages/sklearn/metrics/_classification.py:1565: UndefinedMetricWarning: Precision is ill-defined and being set to 0.0 in labels with no predicted samples. Use `zero_division` parameter to control this behavior.\n",
      "  _warn_prf(average, modifier, f\"{metric.capitalize()} is\", len(result))\n"
     ]
    }
   ],
   "source": [
    "# Convert one-hot to single-label encoding\n",
    "if y_test.ndim == 2:\n",
    "    y_test = np.argmax(y_test, axis=1)\n",
    "\n",
    "if y_pred.ndim == 2:\n",
    "    y_pred = np.argmax(y_pred, axis=1)\n",
    "\n",
    "# Evaluate the model\n",
    "accuracy = accuracy_score(y_test, y_pred)\n",
    "report_dict = classification_report(y_test, y_pred, output_dict=True)\n",
    "\n",
    "# Convert to DataFrame\n",
    "report_df = pd.DataFrame(report_dict).T\n",
    "\n",
    "\n",
    "print(report_df)\n",
    "print(f\"Model Accuracy: {accuracy:.4f}\")\n"
   ]
  },
  {
   "cell_type": "markdown",
   "id": "743989ce-7b02-4d8d-b3eb-05b32c154ee7",
   "metadata": {},
   "source": [
    "## Neural Network"
   ]
  },
  {
   "cell_type": "code",
   "execution_count": 21,
   "id": "241ee30e",
   "metadata": {},
   "outputs": [
    {
     "name": "stdout",
     "output_type": "stream",
     "text": [
      "(2850188, 8)\n"
     ]
    }
   ],
   "source": [
    "#One Hot Encode y for neural network\n",
    "OneHot = OneHotEncoder(sparse_output=False)\n",
    "y_encoded = OneHot.fit_transform(selectdf[['CASE_STATUS']])\n",
    "\n",
    "#test train split again\n",
    "X_train, X_test, y_train, y_test = train_test_split(selectdf.drop(columns=['CASE_STATUS']), y_encoded, test_size=0.2, random_state=42)\n",
    "\n",
    "print(X_train.shape)"
   ]
  },
  {
   "cell_type": "code",
   "execution_count": 33,
   "id": "7febad28-3236-43da-a3db-fe13c3fd54de",
   "metadata": {},
   "outputs": [],
   "source": [
    "#neural network architecture - modified to be higher since the original 64 predicted class 0 dominantly. also adding l2 as weight to try to prevent overfit and underfit further. Adding L2 still predicts class 0 only. \n",
    "\n",
    "#using class weights and l2 yields class 3 only instead of class 0. adjusting classweights to clip extreme class weights\n",
    "\n",
    "#using focals loss and class weights. Also, adding another layer\n",
    "\n",
    "#now trying to use focal loss\n",
    "def focal_loss(alpha=0.5, gamma=1.5):\n",
    "    def loss(y_true, y_pred):\n",
    "        epsilon = K.epsilon()  \n",
    "        y_pred = K.clip(y_pred, epsilon, 1.0 - epsilon)  \n",
    "        cross_entropy = -y_true * K.log(y_pred) \n",
    "        weights = alpha * K.pow(1 - y_pred, gamma) \n",
    "        return K.mean(weights * cross_entropy)\n",
    "    return loss\n",
    "\n",
    "# Compute class weights\n",
    "classes = np.array([0,1,2,3])\n",
    "class_weights = compute_class_weight('balanced', classes=classes, y=y_train.argmax(axis=1))\n",
    "\n",
    "#adjusting classweights to clip extreme class weights, still didnt work, adjusting l2 further\n",
    "class_weights = np.clip(class_weights, 0.5, 2.0)\n",
    "class_weight_dict = {i: class_weights[i] for i in range(4)}\n",
    "\n"
   ]
  },
  {
   "cell_type": "code",
   "execution_count": 34,
   "id": "909e52ad-6647-4e37-a65a-bc61d137745d",
   "metadata": {},
   "outputs": [
    {
     "name": "stderr",
     "output_type": "stream",
     "text": [
      "/Users/christie/GitHub/Capstone/.conda/lib/python3.12/site-packages/keras/src/layers/core/dense.py:87: UserWarning: Do not pass an `input_shape`/`input_dim` argument to a layer. When using Sequential models, prefer using an `Input(shape)` object as the first layer in the model instead.\n",
      "  super().__init__(activity_regularizer=activity_regularizer, **kwargs)\n"
     ]
    },
    {
     "name": "stdout",
     "output_type": "stream",
     "text": [
      "Epoch 1/30\n",
      "\u001b[1m35628/35628\u001b[0m \u001b[32m━━━━━━━━━━━━━━━━━━━━\u001b[0m\u001b[37m\u001b[0m \u001b[1m49s\u001b[0m 1ms/step - accuracy: 0.9116 - loss: 0.1170 - val_accuracy: 0.9240 - val_loss: 0.1533\n",
      "Epoch 2/30\n",
      "\u001b[1m35628/35628\u001b[0m \u001b[32m━━━━━━━━━━━━━━━━━━━━\u001b[0m\u001b[37m\u001b[0m \u001b[1m40s\u001b[0m 1ms/step - accuracy: 0.9244 - loss: 0.0807 - val_accuracy: 0.9240 - val_loss: 0.0215\n",
      "Epoch 3/30\n",
      "\u001b[1m35628/35628\u001b[0m \u001b[32m━━━━━━━━━━━━━━━━━━━━\u001b[0m\u001b[37m\u001b[0m \u001b[1m41s\u001b[0m 1ms/step - accuracy: 0.9244 - loss: 0.0135 - val_accuracy: 0.9240 - val_loss: 0.0215\n",
      "Epoch 4/30\n",
      "\u001b[1m35628/35628\u001b[0m \u001b[32m━━━━━━━━━━━━━━━━━━━━\u001b[0m\u001b[37m\u001b[0m \u001b[1m40s\u001b[0m 1ms/step - accuracy: 0.9242 - loss: 0.0136 - val_accuracy: 0.9240 - val_loss: 0.0215\n",
      "Epoch 5/30\n",
      "\u001b[1m35628/35628\u001b[0m \u001b[32m━━━━━━━━━━━━━━━━━━━━\u001b[0m\u001b[37m\u001b[0m \u001b[1m41s\u001b[0m 1ms/step - accuracy: 0.9243 - loss: 0.0135 - val_accuracy: 0.9240 - val_loss: 0.0215\n",
      "Epoch 6/30\n",
      "\u001b[1m35628/35628\u001b[0m \u001b[32m━━━━━━━━━━━━━━━━━━━━\u001b[0m\u001b[37m\u001b[0m \u001b[1m38s\u001b[0m 1ms/step - accuracy: 0.9244 - loss: 0.0135 - val_accuracy: 0.9240 - val_loss: 0.0215\n",
      "Epoch 7/30\n",
      "\u001b[1m35628/35628\u001b[0m \u001b[32m━━━━━━━━━━━━━━━━━━━━\u001b[0m\u001b[37m\u001b[0m \u001b[1m36s\u001b[0m 1ms/step - accuracy: 0.9245 - loss: 0.0135 - val_accuracy: 0.9240 - val_loss: 0.0215\n",
      "Epoch 8/30\n",
      "\u001b[1m35628/35628\u001b[0m \u001b[32m━━━━━━━━━━━━━━━━━━━━\u001b[0m\u001b[37m\u001b[0m \u001b[1m38s\u001b[0m 1ms/step - accuracy: 0.9239 - loss: 0.0136 - val_accuracy: 0.9240 - val_loss: 0.0215\n",
      "Epoch 9/30\n",
      "\u001b[1m35628/35628\u001b[0m \u001b[32m━━━━━━━━━━━━━━━━━━━━\u001b[0m\u001b[37m\u001b[0m \u001b[1m41s\u001b[0m 1ms/step - accuracy: 0.9241 - loss: 0.0135 - val_accuracy: 0.9240 - val_loss: 0.0215\n",
      "Epoch 10/30\n",
      "\u001b[1m35628/35628\u001b[0m \u001b[32m━━━━━━━━━━━━━━━━━━━━\u001b[0m\u001b[37m\u001b[0m \u001b[1m37s\u001b[0m 1ms/step - accuracy: 0.9243 - loss: 0.0135 - val_accuracy: 0.9240 - val_loss: 0.0215\n",
      "Epoch 11/30\n",
      "\u001b[1m35628/35628\u001b[0m \u001b[32m━━━━━━━━━━━━━━━━━━━━\u001b[0m\u001b[37m\u001b[0m \u001b[1m39s\u001b[0m 1ms/step - accuracy: 0.9241 - loss: 0.0135 - val_accuracy: 0.9240 - val_loss: 0.0215\n",
      "Epoch 12/30\n",
      "\u001b[1m35628/35628\u001b[0m \u001b[32m━━━━━━━━━━━━━━━━━━━━\u001b[0m\u001b[37m\u001b[0m \u001b[1m36s\u001b[0m 997us/step - accuracy: 0.9239 - loss: 0.0136 - val_accuracy: 0.9240 - val_loss: 0.0215\n",
      "Epoch 13/30\n",
      "\u001b[1m35628/35628\u001b[0m \u001b[32m━━━━━━━━━━━━━━━━━━━━\u001b[0m\u001b[37m\u001b[0m \u001b[1m37s\u001b[0m 1ms/step - accuracy: 0.9243 - loss: 0.0135 - val_accuracy: 0.9240 - val_loss: 0.0215\n",
      "Epoch 14/30\n",
      "\u001b[1m35628/35628\u001b[0m \u001b[32m━━━━━━━━━━━━━━━━━━━━\u001b[0m\u001b[37m\u001b[0m \u001b[1m39s\u001b[0m 1ms/step - accuracy: 0.9239 - loss: 0.0136 - val_accuracy: 0.9240 - val_loss: 0.0215\n",
      "Epoch 15/30\n",
      "\u001b[1m35628/35628\u001b[0m \u001b[32m━━━━━━━━━━━━━━━━━━━━\u001b[0m\u001b[37m\u001b[0m \u001b[1m41s\u001b[0m 1ms/step - accuracy: 0.9244 - loss: 0.0135 - val_accuracy: 0.9240 - val_loss: 0.0215\n",
      "Epoch 16/30\n",
      "\u001b[1m35628/35628\u001b[0m \u001b[32m━━━━━━━━━━━━━━━━━━━━\u001b[0m\u001b[37m\u001b[0m \u001b[1m41s\u001b[0m 1ms/step - accuracy: 0.9241 - loss: 0.0136 - val_accuracy: 0.9240 - val_loss: 0.0215\n",
      "Epoch 17/30\n",
      "\u001b[1m35628/35628\u001b[0m \u001b[32m━━━━━━━━━━━━━━━━━━━━\u001b[0m\u001b[37m\u001b[0m \u001b[1m39s\u001b[0m 1ms/step - accuracy: 0.9243 - loss: 0.0135 - val_accuracy: 0.9240 - val_loss: 0.0215\n",
      "Epoch 18/30\n",
      "\u001b[1m35628/35628\u001b[0m \u001b[32m━━━━━━━━━━━━━━━━━━━━\u001b[0m\u001b[37m\u001b[0m \u001b[1m39s\u001b[0m 1ms/step - accuracy: 0.9242 - loss: 0.0136 - val_accuracy: 0.9240 - val_loss: 0.0215\n",
      "Epoch 19/30\n",
      "\u001b[1m35628/35628\u001b[0m \u001b[32m━━━━━━━━━━━━━━━━━━━━\u001b[0m\u001b[37m\u001b[0m \u001b[1m40s\u001b[0m 1ms/step - accuracy: 0.9242 - loss: 0.0136 - val_accuracy: 0.9240 - val_loss: 0.0215\n",
      "Epoch 20/30\n",
      "\u001b[1m35628/35628\u001b[0m \u001b[32m━━━━━━━━━━━━━━━━━━━━\u001b[0m\u001b[37m\u001b[0m \u001b[1m38s\u001b[0m 1ms/step - accuracy: 0.9241 - loss: 0.0135 - val_accuracy: 0.9240 - val_loss: 0.0215\n",
      "Epoch 21/30\n",
      "\u001b[1m35628/35628\u001b[0m \u001b[32m━━━━━━━━━━━━━━━━━━━━\u001b[0m\u001b[37m\u001b[0m \u001b[1m39s\u001b[0m 1ms/step - accuracy: 0.9241 - loss: 0.0135 - val_accuracy: 0.9240 - val_loss: 0.0215\n",
      "Epoch 22/30\n",
      "\u001b[1m35628/35628\u001b[0m \u001b[32m━━━━━━━━━━━━━━━━━━━━\u001b[0m\u001b[37m\u001b[0m \u001b[1m38s\u001b[0m 1ms/step - accuracy: 0.9240 - loss: 0.0136 - val_accuracy: 0.9240 - val_loss: 0.0215\n",
      "Epoch 23/30\n",
      "\u001b[1m35628/35628\u001b[0m \u001b[32m━━━━━━━━━━━━━━━━━━━━\u001b[0m\u001b[37m\u001b[0m \u001b[1m39s\u001b[0m 1ms/step - accuracy: 0.9242 - loss: 0.0135 - val_accuracy: 0.9240 - val_loss: 0.0215\n",
      "Epoch 24/30\n",
      "\u001b[1m35628/35628\u001b[0m \u001b[32m━━━━━━━━━━━━━━━━━━━━\u001b[0m\u001b[37m\u001b[0m \u001b[1m41s\u001b[0m 1ms/step - accuracy: 0.9243 - loss: 0.0135 - val_accuracy: 0.9240 - val_loss: 0.0215\n",
      "Epoch 25/30\n",
      "\u001b[1m35628/35628\u001b[0m \u001b[32m━━━━━━━━━━━━━━━━━━━━\u001b[0m\u001b[37m\u001b[0m \u001b[1m40s\u001b[0m 1ms/step - accuracy: 0.9241 - loss: 0.0136 - val_accuracy: 0.9240 - val_loss: 0.0215\n",
      "Epoch 26/30\n",
      "\u001b[1m35628/35628\u001b[0m \u001b[32m━━━━━━━━━━━━━━━━━━━━\u001b[0m\u001b[37m\u001b[0m \u001b[1m40s\u001b[0m 1ms/step - accuracy: 0.9239 - loss: 0.0136 - val_accuracy: 0.9240 - val_loss: 0.0215\n",
      "Epoch 27/30\n",
      "\u001b[1m35628/35628\u001b[0m \u001b[32m━━━━━━━━━━━━━━━━━━━━\u001b[0m\u001b[37m\u001b[0m \u001b[1m41s\u001b[0m 1ms/step - accuracy: 0.9243 - loss: 0.0135 - val_accuracy: 0.9240 - val_loss: 0.0215\n",
      "Epoch 28/30\n",
      "\u001b[1m35628/35628\u001b[0m \u001b[32m━━━━━━━━━━━━━━━━━━━━\u001b[0m\u001b[37m\u001b[0m \u001b[1m41s\u001b[0m 1ms/step - accuracy: 0.9244 - loss: 0.0135 - val_accuracy: 0.9240 - val_loss: 0.0215\n",
      "Epoch 29/30\n",
      "\u001b[1m35628/35628\u001b[0m \u001b[32m━━━━━━━━━━━━━━━━━━━━\u001b[0m\u001b[37m\u001b[0m \u001b[1m40s\u001b[0m 1ms/step - accuracy: 0.9244 - loss: 0.0135 - val_accuracy: 0.9240 - val_loss: 0.0215\n",
      "Epoch 30/30\n",
      "\u001b[1m35628/35628\u001b[0m \u001b[32m━━━━━━━━━━━━━━━━━━━━\u001b[0m\u001b[37m\u001b[0m \u001b[1m39s\u001b[0m 1ms/step - accuracy: 0.9240 - loss: 0.0136 - val_accuracy: 0.9240 - val_loss: 0.0215\n"
     ]
    }
   ],
   "source": [
    "#model\n",
    "model_multi = Sequential([\n",
    "    Dense(256, activation='relu', input_shape=(X_train.shape[1],), kernel_regularizer=l2(0.001)),  # More neurons\n",
    "    Dropout(0.4),\n",
    "    Dense(128, activation='relu', kernel_regularizer=l2(0.001)),\n",
    "    Dropout(0.3),\n",
    "    Dense(64, activation='relu'),\n",
    "    Dropout(0.2),\n",
    "    Dense(4, activation='softmax')\n",
    "])\n",
    "\n",
    "model_multi.compile(optimizer=Adam(learning_rate=0.001), loss=focal_loss(), metrics=['accuracy'])\n",
    "\n",
    "# Train the model\n",
    "history = model_multi.fit(X_train, y_train, epochs=30, batch_size=64, validation_split=0.2, class_weight=class_weight_dict, verbose=1)\n"
   ]
  },
  {
   "cell_type": "code",
   "execution_count": 41,
   "id": "46f81fd6",
   "metadata": {},
   "outputs": [
    {
     "name": "stdout",
     "output_type": "stream",
     "text": [
      "\u001b[1m22268/22268\u001b[0m \u001b[32m━━━━━━━━━━━━━━━━━━━━\u001b[0m\u001b[37m\u001b[0m \u001b[1m5s\u001b[0m 232us/step\n",
      "Shape of y_test: (712548, 4)\n",
      "(array([0, 1, 2, 3]), array([2634038,  147723,   17433,   50994]))\n",
      "(array([0, 1, 2, 3]), array([658273,  36911,   4344,  13020]))\n",
      "Unique values in y_test_labels: [0 1 2 3]\n",
      "Unique values in y_pred_multi: [0]\n",
      "y_test_labels shape: (712548,)\n",
      "y_pred_multi shape: (712548,)\n"
     ]
    }
   ],
   "source": [
    "#Evaluating model\n",
    "y_prob_multi = model_multi.predict(X_test)\n",
    "\n",
    "#Converting labels back for better interpretation\n",
    "y_pred_multi = np.argmax(y_prob_multi, axis=1)\n",
    "y_test_labels = np.argmax(y_test, axis=1)\n",
    "\n",
    "\n",
    "print(\"Shape of y_test:\", y_test.shape)\n",
    "#checking for correct conversions\n",
    "print(np.unique(y_train.argmax(axis=1), return_counts=True))\n",
    "print(np.unique(y_test_labels, return_counts=True))\n",
    "\n",
    "\n",
    "print(\"Unique values in y_test_labels:\", np.unique(y_test_labels))\n",
    "print(\"Unique values in y_pred_multi:\",np.unique(y_pred_multi))\n",
    "print(\"y_test_labels shape:\", y_test_labels.shape)\n",
    "print(\"y_pred_multi shape:\", y_pred_multi.shape)\n"
   ]
  },
  {
   "cell_type": "code",
   "execution_count": 40,
   "id": "b78ff345",
   "metadata": {},
   "outputs": [
    {
     "name": "stdout",
     "output_type": "stream",
     "text": [
      "0.9241966605186462 0.9240278601646423\n"
     ]
    }
   ],
   "source": [
    "print(history.history['accuracy'][-1], history.history['val_accuracy'][-1])\n"
   ]
  },
  {
   "cell_type": "code",
   "execution_count": 87,
   "id": "bcd2995d",
   "metadata": {},
   "outputs": [
    {
     "data": {
      "text/plain": [
       "'\\ny_train_labels = encoder.fit_transform(y_train_original)  # Use the correct multi-class labels\\ny_test_labels = encoder.transform(y_test_original)\\n'"
      ]
     },
     "execution_count": 87,
     "metadata": {},
     "output_type": "execute_result"
    }
   ],
   "source": [
    "'''\n",
    "y_train_labels = encoder.fit_transform(y_train_original)  # Use the correct multi-class labels\n",
    "y_test_labels = encoder.transform(y_test_original)\n",
    "'''"
   ]
  },
  {
   "cell_type": "code",
   "execution_count": 35,
   "id": "601fa602",
   "metadata": {},
   "outputs": [
    {
     "name": "stderr",
     "output_type": "stream",
     "text": [
      "/Users/christie/GitHub/Capstone/.conda/lib/python3.12/site-packages/sklearn/metrics/_classification.py:1565: UndefinedMetricWarning: Precision is ill-defined and being set to 0.0 in labels with no predicted samples. Use `zero_division` parameter to control this behavior.\n",
      "  _warn_prf(average, modifier, f\"{metric.capitalize()} is\", len(result))\n",
      "/Users/christie/GitHub/Capstone/.conda/lib/python3.12/site-packages/sklearn/metrics/_classification.py:1565: UndefinedMetricWarning: Precision is ill-defined and being set to 0.0 in labels with no predicted samples. Use `zero_division` parameter to control this behavior.\n",
      "  _warn_prf(average, modifier, f\"{metric.capitalize()} is\", len(result))\n",
      "/Users/christie/GitHub/Capstone/.conda/lib/python3.12/site-packages/sklearn/metrics/_classification.py:1565: UndefinedMetricWarning: Precision is ill-defined and being set to 0.0 in labels with no predicted samples. Use `zero_division` parameter to control this behavior.\n",
      "  _warn_prf(average, modifier, f\"{metric.capitalize()} is\", len(result))\n"
     ]
    },
    {
     "data": {
      "text/html": [
       "<div>\n",
       "<style scoped>\n",
       "    .dataframe tbody tr th:only-of-type {\n",
       "        vertical-align: middle;\n",
       "    }\n",
       "\n",
       "    .dataframe tbody tr th {\n",
       "        vertical-align: top;\n",
       "    }\n",
       "\n",
       "    .dataframe thead th {\n",
       "        text-align: right;\n",
       "    }\n",
       "</style>\n",
       "<table border=\"1\" class=\"dataframe\">\n",
       "  <thead>\n",
       "    <tr style=\"text-align: right;\">\n",
       "      <th></th>\n",
       "      <th>precision</th>\n",
       "      <th>recall</th>\n",
       "      <th>f1-score</th>\n",
       "      <th>support</th>\n",
       "    </tr>\n",
       "  </thead>\n",
       "  <tbody>\n",
       "    <tr>\n",
       "      <th>Certified</th>\n",
       "      <td>0.923830</td>\n",
       "      <td>1.00000</td>\n",
       "      <td>0.960407</td>\n",
       "      <td>658273.00000</td>\n",
       "    </tr>\n",
       "    <tr>\n",
       "      <th>Certified-Withdrawn</th>\n",
       "      <td>0.000000</td>\n",
       "      <td>0.00000</td>\n",
       "      <td>0.000000</td>\n",
       "      <td>36911.00000</td>\n",
       "    </tr>\n",
       "    <tr>\n",
       "      <th>Withdrawn</th>\n",
       "      <td>0.000000</td>\n",
       "      <td>0.00000</td>\n",
       "      <td>0.000000</td>\n",
       "      <td>4344.00000</td>\n",
       "    </tr>\n",
       "    <tr>\n",
       "      <th>Denied</th>\n",
       "      <td>0.000000</td>\n",
       "      <td>0.00000</td>\n",
       "      <td>0.000000</td>\n",
       "      <td>13020.00000</td>\n",
       "    </tr>\n",
       "    <tr>\n",
       "      <th>accuracy</th>\n",
       "      <td>0.923830</td>\n",
       "      <td>0.92383</td>\n",
       "      <td>0.923830</td>\n",
       "      <td>0.92383</td>\n",
       "    </tr>\n",
       "    <tr>\n",
       "      <th>macro avg</th>\n",
       "      <td>0.230957</td>\n",
       "      <td>0.25000</td>\n",
       "      <td>0.240102</td>\n",
       "      <td>712548.00000</td>\n",
       "    </tr>\n",
       "    <tr>\n",
       "      <th>weighted avg</th>\n",
       "      <td>0.853461</td>\n",
       "      <td>0.92383</td>\n",
       "      <td>0.887252</td>\n",
       "      <td>712548.00000</td>\n",
       "    </tr>\n",
       "  </tbody>\n",
       "</table>\n",
       "</div>"
      ],
      "text/plain": [
       "                     precision   recall  f1-score       support\n",
       "Certified             0.923830  1.00000  0.960407  658273.00000\n",
       "Certified-Withdrawn   0.000000  0.00000  0.000000   36911.00000\n",
       "Withdrawn             0.000000  0.00000  0.000000    4344.00000\n",
       "Denied                0.000000  0.00000  0.000000   13020.00000\n",
       "accuracy              0.923830  0.92383  0.923830       0.92383\n",
       "macro avg             0.230957  0.25000  0.240102  712548.00000\n",
       "weighted avg          0.853461  0.92383  0.887252  712548.00000"
      ]
     },
     "execution_count": 35,
     "metadata": {},
     "output_type": "execute_result"
    }
   ],
   "source": [
    "#Classification\n",
    "class_report = classification_report(y_test_labels, y_pred_multi, target_names=[\"Certified\", \"Certified-Withdrawn\", \"Withdrawn\", \"Denied\"], output_dict=True)\n",
    "\n",
    "# Convert to DataFrame\n",
    "metrics_df = pd.DataFrame(class_report).T\n",
    "\n",
    "metrics_df\n"
   ]
  },
  {
   "cell_type": "code",
   "execution_count": 80,
   "id": "34a795a7",
   "metadata": {},
   "outputs": [
    {
     "name": "stdout",
     "output_type": "stream",
     "text": [
      "{np.float64(0.0): np.int64(8550564), np.float64(1.0): np.int64(2850188)}\n"
     ]
    }
   ],
   "source": [
    "# Count occurrences of each class in y_train_labels\n",
    "unique, counts = np.unique(y_train, return_counts=True)\n",
    "print(dict(zip(unique, counts)))\n"
   ]
  },
  {
   "cell_type": "code",
   "execution_count": null,
   "id": "fe67000e",
   "metadata": {},
   "outputs": [],
   "source": []
  }
 ],
 "metadata": {
  "kernelspec": {
   "display_name": "Python 3",
   "language": "python",
   "name": "python3"
  },
  "language_info": {
   "codemirror_mode": {
    "name": "ipython",
    "version": 3
   },
   "file_extension": ".py",
   "mimetype": "text/x-python",
   "name": "python",
   "nbconvert_exporter": "python",
   "pygments_lexer": "ipython3",
   "version": "3.12.8"
  }
 },
 "nbformat": 4,
 "nbformat_minor": 5
}
