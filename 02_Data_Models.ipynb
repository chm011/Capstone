{
 "cells": [
  {
   "cell_type": "markdown",
   "id": "e59c1bd3-16bf-402c-babb-e62b9f9a7589",
   "metadata": {},
   "source": [
    "# Part 2:Data Models"
   ]
  },
  {
   "cell_type": "markdown",
   "id": "8c6f3ec0-e107-4858-b6c3-8da3d867944d",
   "metadata": {},
   "source": [
    "## Importing libraries"
   ]
  },
  {
   "cell_type": "code",
   "execution_count": 2,
   "id": "8bd073b7-c64d-49b2-8103-67d1787b0f13",
   "metadata": {},
   "outputs": [
    {
     "name": "stdout",
     "output_type": "stream",
     "text": [
      "Defaulting to user installation because normal site-packages is not writeable\n",
      "Requirement already satisfied: tensorflow in /opt/conda/lib/python3.11/site-packages (2.15.0)\n",
      "Requirement already satisfied: absl-py>=1.0.0 in /opt/conda/lib/python3.11/site-packages (from tensorflow) (2.1.0)\n",
      "Requirement already satisfied: astunparse>=1.6.0 in /opt/conda/lib/python3.11/site-packages (from tensorflow) (1.6.3)\n",
      "Requirement already satisfied: flatbuffers>=23.5.26 in /opt/conda/lib/python3.11/site-packages (from tensorflow) (24.3.25)\n",
      "Requirement already satisfied: gast!=0.5.0,!=0.5.1,!=0.5.2,>=0.2.1 in /opt/conda/lib/python3.11/site-packages (from tensorflow) (0.6.0)\n",
      "Requirement already satisfied: google-pasta>=0.1.1 in /opt/conda/lib/python3.11/site-packages (from tensorflow) (0.2.0)\n",
      "Requirement already satisfied: h5py>=2.9.0 in /opt/conda/lib/python3.11/site-packages (from tensorflow) (3.11.0)\n",
      "Requirement already satisfied: libclang>=13.0.0 in /opt/conda/lib/python3.11/site-packages (from tensorflow) (18.1.1)\n",
      "Requirement already satisfied: ml-dtypes~=0.2.0 in /opt/conda/lib/python3.11/site-packages (from tensorflow) (0.2.0)\n",
      "Requirement already satisfied: numpy<2.0.0,>=1.23.5 in /opt/conda/lib/python3.11/site-packages (from tensorflow) (1.26.4)\n",
      "Requirement already satisfied: opt-einsum>=2.3.2 in /opt/conda/lib/python3.11/site-packages (from tensorflow) (3.4.0)\n",
      "Requirement already satisfied: packaging in /opt/conda/lib/python3.11/site-packages (from tensorflow) (24.0)\n",
      "Requirement already satisfied: protobuf!=4.21.0,!=4.21.1,!=4.21.2,!=4.21.3,!=4.21.4,!=4.21.5,<5.0.0dev,>=3.20.3 in /opt/conda/lib/python3.11/site-packages (from tensorflow) (4.25.5)\n",
      "Requirement already satisfied: setuptools in /opt/conda/lib/python3.11/site-packages (from tensorflow) (69.5.1)\n",
      "Requirement already satisfied: six>=1.12.0 in /opt/conda/lib/python3.11/site-packages (from tensorflow) (1.16.0)\n",
      "Requirement already satisfied: termcolor>=1.1.0 in /opt/conda/lib/python3.11/site-packages (from tensorflow) (2.5.0)\n",
      "Requirement already satisfied: typing-extensions>=3.6.6 in /opt/conda/lib/python3.11/site-packages (from tensorflow) (4.11.0)\n",
      "Requirement already satisfied: wrapt<1.15,>=1.11.0 in /opt/conda/lib/python3.11/site-packages (from tensorflow) (1.14.1)\n",
      "Requirement already satisfied: tensorflow-io-gcs-filesystem>=0.23.1 in /opt/conda/lib/python3.11/site-packages (from tensorflow) (0.37.1)\n",
      "Requirement already satisfied: grpcio<2.0,>=1.24.3 in /opt/conda/lib/python3.11/site-packages (from tensorflow) (1.68.1)\n",
      "Requirement already satisfied: tensorboard<2.16,>=2.15 in /opt/conda/lib/python3.11/site-packages (from tensorflow) (2.15.2)\n",
      "Requirement already satisfied: tensorflow-estimator<2.16,>=2.15.0 in /opt/conda/lib/python3.11/site-packages (from tensorflow) (2.15.0)\n",
      "Requirement already satisfied: keras<2.16,>=2.15.0 in /opt/conda/lib/python3.11/site-packages (from tensorflow) (2.15.0)\n",
      "Requirement already satisfied: wheel<1.0,>=0.23.0 in /opt/conda/lib/python3.11/site-packages (from astunparse>=1.6.0->tensorflow) (0.43.0)\n",
      "Requirement already satisfied: google-auth<3,>=1.6.3 in /opt/conda/lib/python3.11/site-packages (from tensorboard<2.16,>=2.15->tensorflow) (2.36.0)\n",
      "Requirement already satisfied: google-auth-oauthlib<2,>=0.5 in /opt/conda/lib/python3.11/site-packages (from tensorboard<2.16,>=2.15->tensorflow) (1.2.1)\n",
      "Requirement already satisfied: markdown>=2.6.8 in /opt/conda/lib/python3.11/site-packages (from tensorboard<2.16,>=2.15->tensorflow) (3.7)\n",
      "Requirement already satisfied: requests<3,>=2.21.0 in /opt/conda/lib/python3.11/site-packages (from tensorboard<2.16,>=2.15->tensorflow) (2.32.3)\n",
      "Requirement already satisfied: tensorboard-data-server<0.8.0,>=0.7.0 in /opt/conda/lib/python3.11/site-packages (from tensorboard<2.16,>=2.15->tensorflow) (0.7.2)\n",
      "Requirement already satisfied: werkzeug>=1.0.1 in /opt/conda/lib/python3.11/site-packages (from tensorboard<2.16,>=2.15->tensorflow) (3.1.3)\n",
      "Requirement already satisfied: cachetools<6.0,>=2.0.0 in /opt/conda/lib/python3.11/site-packages (from google-auth<3,>=1.6.3->tensorboard<2.16,>=2.15->tensorflow) (5.5.0)\n",
      "Requirement already satisfied: pyasn1-modules>=0.2.1 in /opt/conda/lib/python3.11/site-packages (from google-auth<3,>=1.6.3->tensorboard<2.16,>=2.15->tensorflow) (0.4.1)\n",
      "Requirement already satisfied: rsa<5,>=3.1.4 in /opt/conda/lib/python3.11/site-packages (from google-auth<3,>=1.6.3->tensorboard<2.16,>=2.15->tensorflow) (4.9)\n",
      "Requirement already satisfied: requests-oauthlib>=0.7.0 in /opt/conda/lib/python3.11/site-packages (from google-auth-oauthlib<2,>=0.5->tensorboard<2.16,>=2.15->tensorflow) (2.0.0)\n",
      "Requirement already satisfied: charset-normalizer<4,>=2 in /opt/conda/lib/python3.11/site-packages (from requests<3,>=2.21.0->tensorboard<2.16,>=2.15->tensorflow) (3.3.2)\n",
      "Requirement already satisfied: idna<4,>=2.5 in /opt/conda/lib/python3.11/site-packages (from requests<3,>=2.21.0->tensorboard<2.16,>=2.15->tensorflow) (3.7)\n",
      "Requirement already satisfied: urllib3<3,>=1.21.1 in /opt/conda/lib/python3.11/site-packages (from requests<3,>=2.21.0->tensorboard<2.16,>=2.15->tensorflow) (2.2.1)\n",
      "Requirement already satisfied: certifi>=2017.4.17 in /opt/conda/lib/python3.11/site-packages (from requests<3,>=2.21.0->tensorboard<2.16,>=2.15->tensorflow) (2024.8.30)\n",
      "Requirement already satisfied: MarkupSafe>=2.1.1 in /opt/conda/lib/python3.11/site-packages (from werkzeug>=1.0.1->tensorboard<2.16,>=2.15->tensorflow) (2.1.5)\n",
      "Requirement already satisfied: pyasn1<0.7.0,>=0.4.6 in /opt/conda/lib/python3.11/site-packages (from pyasn1-modules>=0.2.1->google-auth<3,>=1.6.3->tensorboard<2.16,>=2.15->tensorflow) (0.6.1)\n",
      "Requirement already satisfied: oauthlib>=3.0.0 in /opt/conda/lib/python3.11/site-packages (from requests-oauthlib>=0.7.0->google-auth-oauthlib<2,>=0.5->tensorboard<2.16,>=2.15->tensorflow) (3.2.2)\n",
      "Note: you may need to restart the kernel to use updated packages.\n"
     ]
    }
   ],
   "source": [
    "pip install tensorflow"
   ]
  },
  {
   "cell_type": "code",
   "execution_count": 1,
   "id": "0e391df1-f9c0-4486-8c32-3a88a5308ba5",
   "metadata": {},
   "outputs": [
    {
     "name": "stderr",
     "output_type": "stream",
     "text": [
      "2025-02-12 09:47:41.927109: E external/local_xla/xla/stream_executor/cuda/cuda_dnn.cc:9261] Unable to register cuDNN factory: Attempting to register factory for plugin cuDNN when one has already been registered\n",
      "2025-02-12 09:47:41.927162: E external/local_xla/xla/stream_executor/cuda/cuda_fft.cc:607] Unable to register cuFFT factory: Attempting to register factory for plugin cuFFT when one has already been registered\n",
      "2025-02-12 09:47:41.928394: E external/local_xla/xla/stream_executor/cuda/cuda_blas.cc:1515] Unable to register cuBLAS factory: Attempting to register factory for plugin cuBLAS when one has already been registered\n",
      "2025-02-12 09:47:41.936057: I tensorflow/core/platform/cpu_feature_guard.cc:182] This TensorFlow binary is optimized to use available CPU instructions in performance-critical operations.\n",
      "To enable the following instructions: AVX2 FMA, in other operations, rebuild TensorFlow with the appropriate compiler flags.\n"
     ]
    }
   ],
   "source": [
    "import pandas as pd\n",
    "import matplotlib.pyplot as plt\n",
    "import seaborn as sns\n",
    "from sklearn.model_selection import train_test_split\n",
    "from sklearn.preprocessing import LabelEncoder, StandardScaler\n",
    "from sklearn.linear_model import LogisticRegression\n",
    "from sklearn.metrics import classification_report, accuracy_score\n",
    "import tensorflow as tf\n",
    "from tensorflow import keras\n",
    "from tensorflow.keras.models import Sequential\n",
    "from tensorflow.keras.layers import Dense, Dropout\n",
    "from tensorflow.keras.optimizers import Adam"
   ]
  },
  {
   "cell_type": "markdown",
   "id": "c392e13d-16a4-4714-8afe-24cf5641c947",
   "metadata": {},
   "source": [
    "## Importing Data"
   ]
  },
  {
   "cell_type": "code",
   "execution_count": 2,
   "id": "a1122fc2-79fa-49d3-9729-e0d24bec89b9",
   "metadata": {
    "scrolled": true
   },
   "outputs": [
    {
     "data": {
      "text/html": [
       "<div>\n",
       "<style scoped>\n",
       "    .dataframe tbody tr th:only-of-type {\n",
       "        vertical-align: middle;\n",
       "    }\n",
       "\n",
       "    .dataframe tbody tr th {\n",
       "        vertical-align: top;\n",
       "    }\n",
       "\n",
       "    .dataframe thead th {\n",
       "        text-align: right;\n",
       "    }\n",
       "</style>\n",
       "<table border=\"1\" class=\"dataframe\">\n",
       "  <thead>\n",
       "    <tr style=\"text-align: right;\">\n",
       "      <th></th>\n",
       "      <th>CASE_NUMBER</th>\n",
       "      <th>CASE_STATUS</th>\n",
       "      <th>RECEIVED_DATE</th>\n",
       "      <th>DECISION_DATE</th>\n",
       "      <th>ORIGINAL_CERT_DATE</th>\n",
       "      <th>VISA_CLASS</th>\n",
       "      <th>JOB_TITLE</th>\n",
       "      <th>SOC_CODE</th>\n",
       "      <th>SOC_TITLE</th>\n",
       "      <th>FULL_TIME_POSITION</th>\n",
       "      <th>...</th>\n",
       "      <th>WILLFUL_VIOLATOR</th>\n",
       "      <th>SUPPORT_H1B</th>\n",
       "      <th>STATUTORY_BASIS</th>\n",
       "      <th>APPENDIX_A_ATTACHED</th>\n",
       "      <th>PUBLIC_DISCLOSURE</th>\n",
       "      <th>PREPARER_LAST_NAME</th>\n",
       "      <th>PREPARER_FIRST_NAME</th>\n",
       "      <th>PREPARER_MIDDLE_INITIAL</th>\n",
       "      <th>PREPARER_BUSINESS_NAME</th>\n",
       "      <th>PREPARER_EMAIL</th>\n",
       "    </tr>\n",
       "  </thead>\n",
       "  <tbody>\n",
       "    <tr>\n",
       "      <th>0</th>\n",
       "      <td>I-200-19268-393467</td>\n",
       "      <td>Certified</td>\n",
       "      <td>2019-09-25</td>\n",
       "      <td>2019-10-01</td>\n",
       "      <td>NaN</td>\n",
       "      <td>H-1B</td>\n",
       "      <td>APPLICATION ENGINEER, OMS [15-1199.02]</td>\n",
       "      <td>15-1199</td>\n",
       "      <td>COMPUTER OCCUPATIONS, ALL OTHER</td>\n",
       "      <td>Y</td>\n",
       "      <td>...</td>\n",
       "      <td>N</td>\n",
       "      <td>NaN</td>\n",
       "      <td>NaN</td>\n",
       "      <td>NaN</td>\n",
       "      <td>Disclose Business</td>\n",
       "      <td>NaN</td>\n",
       "      <td>NaN</td>\n",
       "      <td>NaN</td>\n",
       "      <td>NaN</td>\n",
       "      <td>NaN</td>\n",
       "    </tr>\n",
       "    <tr>\n",
       "      <th>1</th>\n",
       "      <td>I-200-19268-638983</td>\n",
       "      <td>Certified</td>\n",
       "      <td>2019-09-25</td>\n",
       "      <td>2019-10-01</td>\n",
       "      <td>NaN</td>\n",
       "      <td>H-1B</td>\n",
       "      <td>BI DEVELOPER II</td>\n",
       "      <td>15-1132</td>\n",
       "      <td>SOFTWARE DEVELOPERS, APPLICATIONS</td>\n",
       "      <td>Y</td>\n",
       "      <td>...</td>\n",
       "      <td>N</td>\n",
       "      <td>Y</td>\n",
       "      <td>BOTH</td>\n",
       "      <td>NaN</td>\n",
       "      <td>Disclose Business</td>\n",
       "      <td>NaN</td>\n",
       "      <td>NaN</td>\n",
       "      <td>NaN</td>\n",
       "      <td>NaN</td>\n",
       "      <td>NaN</td>\n",
       "    </tr>\n",
       "    <tr>\n",
       "      <th>2</th>\n",
       "      <td>I-200-19268-177184</td>\n",
       "      <td>Certified</td>\n",
       "      <td>2019-09-25</td>\n",
       "      <td>2019-10-01</td>\n",
       "      <td>NaN</td>\n",
       "      <td>H-1B</td>\n",
       "      <td>QUALITY ENGINEER</td>\n",
       "      <td>17-2141</td>\n",
       "      <td>MECHANICAL ENGINEERS</td>\n",
       "      <td>Y</td>\n",
       "      <td>...</td>\n",
       "      <td>N</td>\n",
       "      <td>Y</td>\n",
       "      <td>BOTH</td>\n",
       "      <td>NaN</td>\n",
       "      <td>Disclose Business</td>\n",
       "      <td>NaN</td>\n",
       "      <td>NaN</td>\n",
       "      <td>NaN</td>\n",
       "      <td>NaN</td>\n",
       "      <td>NaN</td>\n",
       "    </tr>\n",
       "    <tr>\n",
       "      <th>3</th>\n",
       "      <td>I-200-19268-936403</td>\n",
       "      <td>Certified</td>\n",
       "      <td>2019-09-25</td>\n",
       "      <td>2019-10-01</td>\n",
       "      <td>NaN</td>\n",
       "      <td>H-1B</td>\n",
       "      <td>SOFTWARE DEVELOPER, APPLICATIONS</td>\n",
       "      <td>15-1132</td>\n",
       "      <td>SOFTWARE DEVELOPERS, APPLICATIONS</td>\n",
       "      <td>Y</td>\n",
       "      <td>...</td>\n",
       "      <td>N</td>\n",
       "      <td>Y</td>\n",
       "      <td>BOTH</td>\n",
       "      <td>NaN</td>\n",
       "      <td>Disclose Business</td>\n",
       "      <td>NaN</td>\n",
       "      <td>NaN</td>\n",
       "      <td>NaN</td>\n",
       "      <td>NaN</td>\n",
       "      <td>NaN</td>\n",
       "    </tr>\n",
       "    <tr>\n",
       "      <th>4</th>\n",
       "      <td>I-200-19268-394079</td>\n",
       "      <td>Certified</td>\n",
       "      <td>2019-09-25</td>\n",
       "      <td>2019-10-01</td>\n",
       "      <td>NaN</td>\n",
       "      <td>H-1B</td>\n",
       "      <td>QUALITY ENGINEER LEVEL II</td>\n",
       "      <td>15-1199</td>\n",
       "      <td>COMPUTER OCCUPATIONS, ALL OTHER</td>\n",
       "      <td>Y</td>\n",
       "      <td>...</td>\n",
       "      <td>N</td>\n",
       "      <td>Y</td>\n",
       "      <td>BOTH</td>\n",
       "      <td>NaN</td>\n",
       "      <td>Disclose Business</td>\n",
       "      <td>NaN</td>\n",
       "      <td>NaN</td>\n",
       "      <td>NaN</td>\n",
       "      <td>NaN</td>\n",
       "      <td>LEGAL@THEEGIANTS.COM</td>\n",
       "    </tr>\n",
       "  </tbody>\n",
       "</table>\n",
       "<p>5 rows × 96 columns</p>\n",
       "</div>"
      ],
      "text/plain": [
       "          CASE_NUMBER CASE_STATUS RECEIVED_DATE DECISION_DATE  \\\n",
       "0  I-200-19268-393467   Certified    2019-09-25    2019-10-01   \n",
       "1  I-200-19268-638983   Certified    2019-09-25    2019-10-01   \n",
       "2  I-200-19268-177184   Certified    2019-09-25    2019-10-01   \n",
       "3  I-200-19268-936403   Certified    2019-09-25    2019-10-01   \n",
       "4  I-200-19268-394079   Certified    2019-09-25    2019-10-01   \n",
       "\n",
       "  ORIGINAL_CERT_DATE VISA_CLASS                               JOB_TITLE  \\\n",
       "0                NaN       H-1B  APPLICATION ENGINEER, OMS [15-1199.02]   \n",
       "1                NaN       H-1B                         BI DEVELOPER II   \n",
       "2                NaN       H-1B                        QUALITY ENGINEER   \n",
       "3                NaN       H-1B        SOFTWARE DEVELOPER, APPLICATIONS   \n",
       "4                NaN       H-1B               QUALITY ENGINEER LEVEL II   \n",
       "\n",
       "  SOC_CODE                          SOC_TITLE FULL_TIME_POSITION  ...  \\\n",
       "0  15-1199    COMPUTER OCCUPATIONS, ALL OTHER                  Y  ...   \n",
       "1  15-1132  SOFTWARE DEVELOPERS, APPLICATIONS                  Y  ...   \n",
       "2  17-2141               MECHANICAL ENGINEERS                  Y  ...   \n",
       "3  15-1132  SOFTWARE DEVELOPERS, APPLICATIONS                  Y  ...   \n",
       "4  15-1199    COMPUTER OCCUPATIONS, ALL OTHER                  Y  ...   \n",
       "\n",
       "  WILLFUL_VIOLATOR SUPPORT_H1B  STATUTORY_BASIS  APPENDIX_A_ATTACHED  \\\n",
       "0                N         NaN              NaN                  NaN   \n",
       "1                N           Y             BOTH                  NaN   \n",
       "2                N           Y             BOTH                  NaN   \n",
       "3                N           Y             BOTH                  NaN   \n",
       "4                N           Y             BOTH                  NaN   \n",
       "\n",
       "   PUBLIC_DISCLOSURE  PREPARER_LAST_NAME  PREPARER_FIRST_NAME  \\\n",
       "0  Disclose Business                 NaN                  NaN   \n",
       "1  Disclose Business                 NaN                  NaN   \n",
       "2  Disclose Business                 NaN                  NaN   \n",
       "3  Disclose Business                 NaN                  NaN   \n",
       "4  Disclose Business                 NaN                  NaN   \n",
       "\n",
       "   PREPARER_MIDDLE_INITIAL  PREPARER_BUSINESS_NAME        PREPARER_EMAIL  \n",
       "0                      NaN                     NaN                   NaN  \n",
       "1                      NaN                     NaN                   NaN  \n",
       "2                      NaN                     NaN                   NaN  \n",
       "3                      NaN                     NaN                   NaN  \n",
       "4                      NaN                     NaN  LEGAL@THEEGIANTS.COM  \n",
       "\n",
       "[5 rows x 96 columns]"
      ]
     },
     "execution_count": 2,
     "metadata": {},
     "output_type": "execute_result"
    }
   ],
   "source": [
    "#importing data\n",
    "#df = pd.read_csv('Combined_LCA_Disclosure_Data_FY2020_to_FY2024.csv', low_memory=False)\n",
    "df2020 = pd.read_csv('Combined_LCA_Disclosure_Data_FY2020.csv', low_memory=False)\n",
    "df2021 = pd.read_csv('Combined_LCA_Disclosure_Data_FY2021.csv', low_memory=False)\n",
    "df2022 = pd.read_csv('Combined_LCA_Disclosure_Data_FY2022.csv', low_memory=False)\n",
    "df2023 = pd.read_csv('Combined_LCA_Disclosure_Data_FY2023.csv', low_memory=False)\n",
    "df2024 = pd.read_csv('Combined_LCA_Disclosure_Data_FY2024.csv', low_memory=False)\n",
    "all_data = [df2020, df2021,df2022,df2023,df2024]\n",
    "\n",
    "df = pd.concat(all_data)\n",
    "df.head(5)"
   ]
  },
  {
   "cell_type": "code",
   "execution_count": 3,
   "id": "5ab03d2d-98d7-497d-a795-c9a888b491b0",
   "metadata": {},
   "outputs": [],
   "source": [
    "# Delete previous dataframes to free memory\n",
    "del df2020, df2021, df2022, df2023, df2024, all_data"
   ]
  },
  {
   "cell_type": "markdown",
   "id": "cc311b32-6205-4a1e-be5f-77a9d9d5f5e7",
   "metadata": {},
   "source": [
    "## Basic Data Processing "
   ]
  },
  {
   "cell_type": "markdown",
   "id": "3978521b-689a-4811-98f3-688de36abfab",
   "metadata": {},
   "source": [
    "### 1. Finding Annual Wage"
   ]
  },
  {
   "cell_type": "code",
   "execution_count": 4,
   "id": "cb04865e-a429-4efc-b885-4aa4f1346b69",
   "metadata": {},
   "outputs": [
    {
     "name": "stdout",
     "output_type": "stream",
     "text": [
      "['Year' 'Hour' 'Bi-Weekly' nan 'Month' 'Week']\n"
     ]
    }
   ],
   "source": [
    "#Salary Analysis\n",
    "#Clean and convert salaries to numeric, handling outliers\n",
    "\n",
    "unique_units = df['PW_UNIT_OF_PAY'].unique()\n",
    "print(unique_units)"
   ]
  },
  {
   "cell_type": "code",
   "execution_count": 5,
   "id": "03e22fc7-83ec-49aa-9169-2ab12dcf81f3",
   "metadata": {},
   "outputs": [],
   "source": [
    "#\"Prevailing Wage\" * conversion factors to find annual wage\n",
    "df['PREVAILING_WAGE'] = pd.to_numeric(df['PREVAILING_WAGE'], errors='coerce')\n",
    "df = df[df['PREVAILING_WAGE'] > 0]  # Filter out non-positive values\n",
    "\n",
    "conversion_factors = {\n",
    "    'Year': 1,            # No Normalization\n",
    "    'Month': 12,          # 12 months in a year\n",
    "    'Bi-Weekly': 26,      # 26 bi-weekly periods in a year\n",
    "    'Week': 52,           # 52 weeks in a year\n",
    "    'Hour': 2080          # 52 weeks in a year x 40 hrs a week\n",
    "}\n",
    "\n",
    "df['ANNUAL_WAGE'] = df.apply(\n",
    "    lambda row: row['PREVAILING_WAGE'] * conversion_factors.get(row['PW_UNIT_OF_PAY'], 1),\n",
    "    axis=1\n",
    ")"
   ]
  },
  {
   "cell_type": "code",
   "execution_count": 6,
   "id": "94481e62-862e-4718-ba5b-a6152dfc670a",
   "metadata": {},
   "outputs": [
    {
     "name": "stdout",
     "output_type": "stream",
     "text": [
      "    PREVAILING_WAGE PW_UNIT_OF_PAY  ANNUAL_WAGE\n",
      "1              39.0           Hour      81120.0\n",
      "2              39.0           Hour      81120.0\n",
      "3              53.0           Hour     110240.0\n",
      "59             28.0           Hour      58240.0\n",
      "60             29.0           Hour      60320.0\n"
     ]
    }
   ],
   "source": [
    "print(df[df['PW_UNIT_OF_PAY'] == 'Hour'][['PREVAILING_WAGE', 'PW_UNIT_OF_PAY', 'ANNUAL_WAGE']].head())"
   ]
  },
  {
   "cell_type": "markdown",
   "id": "50433b2e-eccd-4a8d-88f0-0683dbf54619",
   "metadata": {},
   "source": [
    "### 2. Finding Decision Duration of Applications"
   ]
  },
  {
   "cell_type": "code",
   "execution_count": 7,
   "id": "937a9958-901f-4bf0-8a3a-1bb6fb5ab17b",
   "metadata": {
    "scrolled": true
   },
   "outputs": [
    {
     "data": {
      "text/plain": [
       "0    6 days\n",
       "1   99 days\n",
       "2    2 days\n",
       "Name: Decision_Duration, dtype: timedelta64[ns]"
      ]
     },
     "execution_count": 7,
     "metadata": {},
     "output_type": "execute_result"
    }
   ],
   "source": [
    "#get the processing time from subtracting decision date and start date and case status is certified\n",
    "#processing the time into usable format\n",
    "\n",
    "df['BEGIN_DATE'] = pd.to_datetime(df['BEGIN_DATE'])\n",
    "df['DECISION_DATE'] = pd.to_datetime(df['DECISION_DATE'])\n",
    "df['RECEIVED_DATE'] = pd.to_datetime(df['RECEIVED_DATE'])\n",
    "\n",
    "df['Decision_Duration'] = df['BEGIN_DATE'] - df['DECISION_DATE']\n",
    "\n",
    "df.Decision_Duration.head(3)"
   ]
  },
  {
   "cell_type": "code",
   "execution_count": 8,
   "id": "f09dd8c3-97a6-4c14-b748-ab71f58446cf",
   "metadata": {},
   "outputs": [],
   "source": [
    "#selecting features based on correlation coefficients from last section\n",
    "selectdf = df.loc[:, ['CASE_STATUS','ANNUAL_WAGE','SUPPORT_H1B','EMPLOYER_NAME','AGENT_ATTORNEY_CITY','WORKSITE_WORKERS','TOTAL_WORKER_POSITIONS','RECEIVED_DATE','Decision_Duration']]"
   ]
  },
  {
   "cell_type": "code",
   "execution_count": 9,
   "id": "15c8cbe0-1be9-4d6e-82c0-527f656447ae",
   "metadata": {},
   "outputs": [
    {
     "data": {
      "text/html": [
       "<div>\n",
       "<style scoped>\n",
       "    .dataframe tbody tr th:only-of-type {\n",
       "        vertical-align: middle;\n",
       "    }\n",
       "\n",
       "    .dataframe tbody tr th {\n",
       "        vertical-align: top;\n",
       "    }\n",
       "\n",
       "    .dataframe thead th {\n",
       "        text-align: right;\n",
       "    }\n",
       "</style>\n",
       "<table border=\"1\" class=\"dataframe\">\n",
       "  <thead>\n",
       "    <tr style=\"text-align: right;\">\n",
       "      <th></th>\n",
       "      <th>CASE_STATUS</th>\n",
       "      <th>ANNUAL_WAGE</th>\n",
       "      <th>SUPPORT_H1B</th>\n",
       "      <th>EMPLOYER_NAME</th>\n",
       "      <th>AGENT_ATTORNEY_CITY</th>\n",
       "      <th>WORKSITE_WORKERS</th>\n",
       "      <th>TOTAL_WORKER_POSITIONS</th>\n",
       "      <th>RECEIVED_DATE</th>\n",
       "      <th>Decision_Duration</th>\n",
       "    </tr>\n",
       "  </thead>\n",
       "  <tbody>\n",
       "    <tr>\n",
       "      <th>0</th>\n",
       "      <td>0</td>\n",
       "      <td>95118.0</td>\n",
       "      <td>4</td>\n",
       "      <td>89786</td>\n",
       "      <td>494</td>\n",
       "      <td>82</td>\n",
       "      <td>1</td>\n",
       "      <td>223</td>\n",
       "      <td>1349</td>\n",
       "    </tr>\n",
       "    <tr>\n",
       "      <th>1</th>\n",
       "      <td>0</td>\n",
       "      <td>81120.0</td>\n",
       "      <td>2</td>\n",
       "      <td>47200</td>\n",
       "      <td>1296</td>\n",
       "      <td>82</td>\n",
       "      <td>1</td>\n",
       "      <td>223</td>\n",
       "      <td>1442</td>\n",
       "    </tr>\n",
       "    <tr>\n",
       "      <th>2</th>\n",
       "      <td>0</td>\n",
       "      <td>81120.0</td>\n",
       "      <td>2</td>\n",
       "      <td>55202</td>\n",
       "      <td>2742</td>\n",
       "      <td>82</td>\n",
       "      <td>1</td>\n",
       "      <td>223</td>\n",
       "      <td>1345</td>\n",
       "    </tr>\n",
       "    <tr>\n",
       "      <th>3</th>\n",
       "      <td>0</td>\n",
       "      <td>110240.0</td>\n",
       "      <td>2</td>\n",
       "      <td>150953</td>\n",
       "      <td>3155</td>\n",
       "      <td>82</td>\n",
       "      <td>1</td>\n",
       "      <td>223</td>\n",
       "      <td>1349</td>\n",
       "    </tr>\n",
       "    <tr>\n",
       "      <th>4</th>\n",
       "      <td>0</td>\n",
       "      <td>65333.0</td>\n",
       "      <td>2</td>\n",
       "      <td>53537</td>\n",
       "      <td>3155</td>\n",
       "      <td>82</td>\n",
       "      <td>1</td>\n",
       "      <td>223</td>\n",
       "      <td>1351</td>\n",
       "    </tr>\n",
       "  </tbody>\n",
       "</table>\n",
       "</div>"
      ],
      "text/plain": [
       "   CASE_STATUS  ANNUAL_WAGE  SUPPORT_H1B  EMPLOYER_NAME  AGENT_ATTORNEY_CITY  \\\n",
       "0            0      95118.0            4          89786                  494   \n",
       "1            0      81120.0            2          47200                 1296   \n",
       "2            0      81120.0            2          55202                 2742   \n",
       "3            0     110240.0            2         150953                 3155   \n",
       "4            0      65333.0            2          53537                 3155   \n",
       "\n",
       "   WORKSITE_WORKERS  TOTAL_WORKER_POSITIONS  RECEIVED_DATE  Decision_Duration  \n",
       "0                82                       1            223               1349  \n",
       "1                82                       1            223               1442  \n",
       "2                82                       1            223               1345  \n",
       "3                82                       1            223               1349  \n",
       "4                82                       1            223               1351  "
      ]
     },
     "execution_count": 9,
     "metadata": {},
     "output_type": "execute_result"
    }
   ],
   "source": [
    "'''\n",
    "Preprocessing features\n",
    "#:'Decision_Duration','TOTAL_WORKER_POSITIONS','ANNUAL_WAGE'\n",
    "Categorical: 'CASE_STATUS','SUPPORT_H1B','EMPLOYER_NAME','AGENT_ATTORNEY_CITY','WORKSITE_WORKERS','RECEIVED_DATE']]\n",
    "'''\n",
    "cat_columns = ['CASE_STATUS','Decision_Duration','SUPPORT_H1B','EMPLOYER_NAME','AGENT_ATTORNEY_CITY','WORKSITE_WORKERS','RECEIVED_DATE']\n",
    "for col in cat_columns:\n",
    "    label_encoder = LabelEncoder()\n",
    "    selectdf[col] = label_encoder.fit_transform(selectdf[col])\n",
    "\n",
    "selectdf.head(5)\n"
   ]
  },
  {
   "cell_type": "code",
   "execution_count": 10,
   "id": "e90de7e1-93ed-40c5-9e1d-1a8d4134fc55",
   "metadata": {},
   "outputs": [
    {
     "data": {
      "text/plain": [
       "CASE_STATUS\n",
       "0    3292311\n",
       "1     184634\n",
       "3      64014\n",
       "2      21777\n",
       "Name: count, dtype: int64"
      ]
     },
     "execution_count": 10,
     "metadata": {},
     "output_type": "execute_result"
    }
   ],
   "source": [
    "selectdf.CASE_STATUS.value_counts()"
   ]
  },
  {
   "cell_type": "code",
   "execution_count": 11,
   "id": "50fe5317-0295-4da2-a384-1c7aadab464a",
   "metadata": {},
   "outputs": [],
   "source": [
    "#target variable and the selected features from above\n",
    "X = selectdf[['RECEIVED_DATE','Decision_Duration', 'TOTAL_WORKER_POSITIONS', 'ANNUAL_WAGE', 'SUPPORT_H1B', 'EMPLOYER_NAME',\n",
    "        'AGENT_ATTORNEY_CITY', 'WORKSITE_WORKERS', 'RECEIVED_DATE']]\n",
    "y = selectdf['CASE_STATUS']\n",
    "\n",
    "# Standardize numerical features\n",
    "scaler = StandardScaler()\n",
    "X[['Decision_Duration', 'TOTAL_WORKER_POSITIONS', 'ANNUAL_WAGE']] = scaler.fit_transform(X[['Decision_Duration', 'TOTAL_WORKER_POSITIONS', 'ANNUAL_WAGE']])\n",
    "\n",
    "# Split dataset into train and test sets (80/20)\n",
    "X_train, X_test, y_train, y_test = train_test_split(X, y, test_size=0.2)\n"
   ]
  },
  {
   "cell_type": "markdown",
   "id": "c300b027-3fad-45b9-809b-ec1f246fae9a",
   "metadata": {
    "jp-MarkdownHeadingCollapsed": true
   },
   "source": [
    "## Logistic Regression"
   ]
  },
  {
   "cell_type": "code",
   "execution_count": null,
   "id": "dbfcb016-e4fe-4555-a1aa-6917d1bb6867",
   "metadata": {},
   "outputs": [],
   "source": [
    "#Setting up model\n",
    "lgmodel = LogisticRegression(max_iter=100, solver='saga', class_weight='balanced')\n",
    "lgmodel.fit(X_train, y_train)\n",
    "\n",
    "# Predictions\n",
    "y_pred = lgmodel.predict(X_test)\n"
   ]
  },
  {
   "cell_type": "code",
   "execution_count": null,
   "id": "3a1e7869-e24d-43d0-8cba-0d1b9a547bf1",
   "metadata": {},
   "outputs": [],
   "source": [
    "# Evaluate the model\n",
    "accuracy = accuracy_score(y_test, y_pred)\n",
    "report = classification_report(y_test, y_pred)\n",
    "\n",
    "accuracy, report"
   ]
  },
  {
   "cell_type": "markdown",
   "id": "743989ce-7b02-4d8d-b3eb-05b32c154ee7",
   "metadata": {},
   "source": [
    "## Neural Network"
   ]
  },
  {
   "cell_type": "code",
   "execution_count": 12,
   "id": "7febad28-3236-43da-a3db-fe13c3fd54de",
   "metadata": {},
   "outputs": [
    {
     "name": "stderr",
     "output_type": "stream",
     "text": [
      "2025-02-12 09:50:19.023346: I tensorflow/core/common_runtime/gpu/gpu_device.cc:1929] Created device /job:localhost/replica:0/task:0/device:GPU:0 with 10534 MB memory:  -> device: 0, name: NVIDIA GeForce GTX 1080 Ti, pci bus id: 0000:8a:00.0, compute capability: 6.1\n"
     ]
    }
   ],
   "source": [
    "# Define the neural network architecture\n",
    "model_nn = Sequential([\n",
    "    Dense(32, activation='relu', input_shape=(X.shape[1],)),\n",
    "    Dropout(0.2),  # Regularization to prevent overfitting\n",
    "    Dense(16, activation='relu'),  \n",
    "    Dropout(0.2),\n",
    "    Dense(1, activation='sigmoid')  \n",
    "])"
   ]
  },
  {
   "cell_type": "code",
   "execution_count": null,
   "id": "909e52ad-6647-4e37-a65a-bc61d137745d",
   "metadata": {},
   "outputs": [
    {
     "name": "stdout",
     "output_type": "stream",
     "text": [
      "Epoch 1/20\n"
     ]
    },
    {
     "name": "stderr",
     "output_type": "stream",
     "text": [
      "2025-02-12 09:50:28.702167: I external/local_xla/xla/service/service.cc:168] XLA service 0x7f671862ecb0 initialized for platform CUDA (this does not guarantee that XLA will be used). Devices:\n",
      "2025-02-12 09:50:28.702218: I external/local_xla/xla/service/service.cc:176]   StreamExecutor device (0): NVIDIA GeForce GTX 1080 Ti, Compute Capability 6.1\n",
      "2025-02-12 09:50:28.716123: I tensorflow/compiler/mlir/tensorflow/utils/dump_mlir_util.cc:269] disabling MLIR crash reproducer, set env var `MLIR_CRASH_REPRODUCER_DIRECTORY` to enable.\n",
      "2025-02-12 09:50:28.751043: I external/local_xla/xla/stream_executor/cuda/cuda_dnn.cc:454] Loaded cuDNN version 8902\n",
      "WARNING: All log messages before absl::InitializeLog() is called are written to STDERR\n",
      "I0000 00:00:1739353828.877089   23931 device_compiler.h:186] Compiled cluster using XLA!  This line is logged at most once for the lifetime of the process.\n"
     ]
    },
    {
     "name": "stdout",
     "output_type": "stream",
     "text": [
      "71250/71255 [============================>.] - ETA: 0s - loss: 13.6792 - accuracy: 0.9218"
     ]
    }
   ],
   "source": [
    "#model\n",
    "model_nn.compile(optimizer=Adam(learning_rate=0.001),\n",
    "                 loss='binary_crossentropy',\n",
    "                 metrics=['accuracy'])\n",
    "\n",
    "# Train the model\n",
    "history = model_nn.fit(X_train, y_train, epochs=20, batch_size=32, validation_split=0.2, verbose=1)"
   ]
  },
  {
   "cell_type": "code",
   "execution_count": null,
   "id": "75afc983-0250-4816-af1b-1aea83f82a7c",
   "metadata": {},
   "outputs": [],
   "source": [
    "# Evaluate the model\n",
    "test_loss, test_accuracy = model_nn.evaluate(X_test, y_test, verbose=0)\n",
    "\n",
    "test_accuracy\n"
   ]
  },
  {
   "cell_type": "code",
   "execution_count": null,
   "id": "dde6f6fd-fec4-4fec-8995-40c676dca669",
   "metadata": {},
   "outputs": [],
   "source": [
    "from sklearn.metrics import roc_auc_score, precision_recall_curve, auc\n",
    "\n",
    "# Get probability predictions from the neural network\n",
    "y_prob_nn = model_nn.predict(X_test).flatten()\n",
    "\n",
    "# Compute ROC-AUC Score\n",
    "roc_auc_nn = roc_auc_score(y_test, y_prob_nn)\n",
    "\n",
    "# Compute Precision-Recall AUC Score\n",
    "precision_nn, recall_nn, _ = precision_recall_curve(y_test_opt, y_prob_nn)\n",
    "pr_auc_nn = auc(recall_nn, precision_nn)"
   ]
  },
  {
   "cell_type": "code",
   "execution_count": null,
   "id": "1daf6a75-6ac9-4d34-b1a5-ba5a0d1ae9ae",
   "metadata": {},
   "outputs": [],
   "source": []
  }
 ],
 "metadata": {
  "kernelspec": {
   "display_name": "Python 3 (ipykernel)",
   "language": "python",
   "name": "python3"
  },
  "language_info": {
   "codemirror_mode": {
    "name": "ipython",
    "version": 3
   },
   "file_extension": ".py",
   "mimetype": "text/x-python",
   "name": "python",
   "nbconvert_exporter": "python",
   "pygments_lexer": "ipython3",
   "version": "3.11.9"
  }
 },
 "nbformat": 4,
 "nbformat_minor": 5
}
