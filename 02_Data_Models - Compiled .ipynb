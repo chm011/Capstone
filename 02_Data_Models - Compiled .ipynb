{
 "cells": [
  {
   "cell_type": "markdown",
   "id": "e59c1bd3-16bf-402c-babb-e62b9f9a7589",
   "metadata": {},
   "source": [
    "# Part 2:Data Models"
   ]
  },
  {
   "cell_type": "markdown",
   "id": "8c6f3ec0-e107-4858-b6c3-8da3d867944d",
   "metadata": {},
   "source": [
    "## Importing libraries"
   ]
  },
  {
   "cell_type": "code",
   "execution_count": 97,
   "id": "0e391df1-f9c0-4486-8c32-3a88a5308ba5",
   "metadata": {},
   "outputs": [],
   "source": [
    "import pandas as pd\n",
    "import numpy as np\n",
    "import matplotlib.pyplot as plt\n",
    "import seaborn as sns\n",
    "from sklearn.model_selection import train_test_split\n",
    "from sklearn.preprocessing import LabelEncoder, StandardScaler\n",
    "from sklearn.linear_model import LogisticRegression\n",
    "from sklearn.metrics import classification_report, accuracy_score, confusion_matrix\n",
    "from sklearn.ensemble import RandomForestClassifier\n",
    "\n",
    "import tensorflow as tf\n",
    "from tensorflow import keras\n",
    "from tensorflow.keras.models import Sequential\n",
    "from tensorflow.keras.layers import Dense, Dropout, BatchNormalization\n",
    "from tensorflow.keras.optimizers import Adam\n",
    "\n",
    "\n",
    "import imblearn\n",
    "from imblearn.over_sampling import RandomOverSampler, SMOTE\n",
    "\n",
    "import xgboost\n",
    "from xgboost import XGBClassifier"
   ]
  },
  {
   "cell_type": "markdown",
   "id": "c392e13d-16a4-4714-8afe-24cf5641c947",
   "metadata": {},
   "source": [
    "## Importing Data"
   ]
  },
  {
   "cell_type": "code",
   "execution_count": 98,
   "id": "a1122fc2-79fa-49d3-9729-e0d24bec89b9",
   "metadata": {
    "scrolled": true
   },
   "outputs": [
    {
     "data": {
      "text/html": [
       "<div>\n",
       "<style scoped>\n",
       "    .dataframe tbody tr th:only-of-type {\n",
       "        vertical-align: middle;\n",
       "    }\n",
       "\n",
       "    .dataframe tbody tr th {\n",
       "        vertical-align: top;\n",
       "    }\n",
       "\n",
       "    .dataframe thead th {\n",
       "        text-align: right;\n",
       "    }\n",
       "</style>\n",
       "<table border=\"1\" class=\"dataframe\">\n",
       "  <thead>\n",
       "    <tr style=\"text-align: right;\">\n",
       "      <th></th>\n",
       "      <th>CASE_NUMBER</th>\n",
       "      <th>CASE_STATUS</th>\n",
       "      <th>RECEIVED_DATE</th>\n",
       "      <th>DECISION_DATE</th>\n",
       "      <th>ORIGINAL_CERT_DATE</th>\n",
       "      <th>VISA_CLASS</th>\n",
       "      <th>JOB_TITLE</th>\n",
       "      <th>SOC_CODE</th>\n",
       "      <th>SOC_TITLE</th>\n",
       "      <th>FULL_TIME_POSITION</th>\n",
       "      <th>...</th>\n",
       "      <th>WILLFUL_VIOLATOR</th>\n",
       "      <th>SUPPORT_H1B</th>\n",
       "      <th>STATUTORY_BASIS</th>\n",
       "      <th>APPENDIX_A_ATTACHED</th>\n",
       "      <th>PUBLIC_DISCLOSURE</th>\n",
       "      <th>PREPARER_LAST_NAME</th>\n",
       "      <th>PREPARER_FIRST_NAME</th>\n",
       "      <th>PREPARER_MIDDLE_INITIAL</th>\n",
       "      <th>PREPARER_BUSINESS_NAME</th>\n",
       "      <th>PREPARER_EMAIL</th>\n",
       "    </tr>\n",
       "  </thead>\n",
       "  <tbody>\n",
       "    <tr>\n",
       "      <th>0</th>\n",
       "      <td>I-200-19268-393467</td>\n",
       "      <td>Certified</td>\n",
       "      <td>2019-09-25</td>\n",
       "      <td>2019-10-01</td>\n",
       "      <td>NaN</td>\n",
       "      <td>H-1B</td>\n",
       "      <td>APPLICATION ENGINEER, OMS [15-1199.02]</td>\n",
       "      <td>15-1199</td>\n",
       "      <td>COMPUTER OCCUPATIONS, ALL OTHER</td>\n",
       "      <td>Y</td>\n",
       "      <td>...</td>\n",
       "      <td>N</td>\n",
       "      <td>NaN</td>\n",
       "      <td>NaN</td>\n",
       "      <td>NaN</td>\n",
       "      <td>Disclose Business</td>\n",
       "      <td>NaN</td>\n",
       "      <td>NaN</td>\n",
       "      <td>NaN</td>\n",
       "      <td>NaN</td>\n",
       "      <td>NaN</td>\n",
       "    </tr>\n",
       "    <tr>\n",
       "      <th>1</th>\n",
       "      <td>I-200-19268-638983</td>\n",
       "      <td>Certified</td>\n",
       "      <td>2019-09-25</td>\n",
       "      <td>2019-10-01</td>\n",
       "      <td>NaN</td>\n",
       "      <td>H-1B</td>\n",
       "      <td>BI DEVELOPER II</td>\n",
       "      <td>15-1132</td>\n",
       "      <td>SOFTWARE DEVELOPERS, APPLICATIONS</td>\n",
       "      <td>Y</td>\n",
       "      <td>...</td>\n",
       "      <td>N</td>\n",
       "      <td>Y</td>\n",
       "      <td>BOTH</td>\n",
       "      <td>NaN</td>\n",
       "      <td>Disclose Business</td>\n",
       "      <td>NaN</td>\n",
       "      <td>NaN</td>\n",
       "      <td>NaN</td>\n",
       "      <td>NaN</td>\n",
       "      <td>NaN</td>\n",
       "    </tr>\n",
       "    <tr>\n",
       "      <th>2</th>\n",
       "      <td>I-200-19268-177184</td>\n",
       "      <td>Certified</td>\n",
       "      <td>2019-09-25</td>\n",
       "      <td>2019-10-01</td>\n",
       "      <td>NaN</td>\n",
       "      <td>H-1B</td>\n",
       "      <td>QUALITY ENGINEER</td>\n",
       "      <td>17-2141</td>\n",
       "      <td>MECHANICAL ENGINEERS</td>\n",
       "      <td>Y</td>\n",
       "      <td>...</td>\n",
       "      <td>N</td>\n",
       "      <td>Y</td>\n",
       "      <td>BOTH</td>\n",
       "      <td>NaN</td>\n",
       "      <td>Disclose Business</td>\n",
       "      <td>NaN</td>\n",
       "      <td>NaN</td>\n",
       "      <td>NaN</td>\n",
       "      <td>NaN</td>\n",
       "      <td>NaN</td>\n",
       "    </tr>\n",
       "    <tr>\n",
       "      <th>3</th>\n",
       "      <td>I-200-19268-936403</td>\n",
       "      <td>Certified</td>\n",
       "      <td>2019-09-25</td>\n",
       "      <td>2019-10-01</td>\n",
       "      <td>NaN</td>\n",
       "      <td>H-1B</td>\n",
       "      <td>SOFTWARE DEVELOPER, APPLICATIONS</td>\n",
       "      <td>15-1132</td>\n",
       "      <td>SOFTWARE DEVELOPERS, APPLICATIONS</td>\n",
       "      <td>Y</td>\n",
       "      <td>...</td>\n",
       "      <td>N</td>\n",
       "      <td>Y</td>\n",
       "      <td>BOTH</td>\n",
       "      <td>NaN</td>\n",
       "      <td>Disclose Business</td>\n",
       "      <td>NaN</td>\n",
       "      <td>NaN</td>\n",
       "      <td>NaN</td>\n",
       "      <td>NaN</td>\n",
       "      <td>NaN</td>\n",
       "    </tr>\n",
       "    <tr>\n",
       "      <th>4</th>\n",
       "      <td>I-200-19268-394079</td>\n",
       "      <td>Certified</td>\n",
       "      <td>2019-09-25</td>\n",
       "      <td>2019-10-01</td>\n",
       "      <td>NaN</td>\n",
       "      <td>H-1B</td>\n",
       "      <td>QUALITY ENGINEER LEVEL II</td>\n",
       "      <td>15-1199</td>\n",
       "      <td>COMPUTER OCCUPATIONS, ALL OTHER</td>\n",
       "      <td>Y</td>\n",
       "      <td>...</td>\n",
       "      <td>N</td>\n",
       "      <td>Y</td>\n",
       "      <td>BOTH</td>\n",
       "      <td>NaN</td>\n",
       "      <td>Disclose Business</td>\n",
       "      <td>NaN</td>\n",
       "      <td>NaN</td>\n",
       "      <td>NaN</td>\n",
       "      <td>NaN</td>\n",
       "      <td>LEGAL@THEEGIANTS.COM</td>\n",
       "    </tr>\n",
       "  </tbody>\n",
       "</table>\n",
       "<p>5 rows × 96 columns</p>\n",
       "</div>"
      ],
      "text/plain": [
       "          CASE_NUMBER CASE_STATUS RECEIVED_DATE DECISION_DATE  \\\n",
       "0  I-200-19268-393467   Certified    2019-09-25    2019-10-01   \n",
       "1  I-200-19268-638983   Certified    2019-09-25    2019-10-01   \n",
       "2  I-200-19268-177184   Certified    2019-09-25    2019-10-01   \n",
       "3  I-200-19268-936403   Certified    2019-09-25    2019-10-01   \n",
       "4  I-200-19268-394079   Certified    2019-09-25    2019-10-01   \n",
       "\n",
       "  ORIGINAL_CERT_DATE VISA_CLASS                               JOB_TITLE  \\\n",
       "0                NaN       H-1B  APPLICATION ENGINEER, OMS [15-1199.02]   \n",
       "1                NaN       H-1B                         BI DEVELOPER II   \n",
       "2                NaN       H-1B                        QUALITY ENGINEER   \n",
       "3                NaN       H-1B        SOFTWARE DEVELOPER, APPLICATIONS   \n",
       "4                NaN       H-1B               QUALITY ENGINEER LEVEL II   \n",
       "\n",
       "  SOC_CODE                          SOC_TITLE FULL_TIME_POSITION  ...  \\\n",
       "0  15-1199    COMPUTER OCCUPATIONS, ALL OTHER                  Y  ...   \n",
       "1  15-1132  SOFTWARE DEVELOPERS, APPLICATIONS                  Y  ...   \n",
       "2  17-2141               MECHANICAL ENGINEERS                  Y  ...   \n",
       "3  15-1132  SOFTWARE DEVELOPERS, APPLICATIONS                  Y  ...   \n",
       "4  15-1199    COMPUTER OCCUPATIONS, ALL OTHER                  Y  ...   \n",
       "\n",
       "  WILLFUL_VIOLATOR SUPPORT_H1B  STATUTORY_BASIS  APPENDIX_A_ATTACHED  \\\n",
       "0                N         NaN              NaN                  NaN   \n",
       "1                N           Y             BOTH                  NaN   \n",
       "2                N           Y             BOTH                  NaN   \n",
       "3                N           Y             BOTH                  NaN   \n",
       "4                N           Y             BOTH                  NaN   \n",
       "\n",
       "   PUBLIC_DISCLOSURE  PREPARER_LAST_NAME  PREPARER_FIRST_NAME  \\\n",
       "0  Disclose Business                 NaN                  NaN   \n",
       "1  Disclose Business                 NaN                  NaN   \n",
       "2  Disclose Business                 NaN                  NaN   \n",
       "3  Disclose Business                 NaN                  NaN   \n",
       "4  Disclose Business                 NaN                  NaN   \n",
       "\n",
       "   PREPARER_MIDDLE_INITIAL  PREPARER_BUSINESS_NAME        PREPARER_EMAIL  \n",
       "0                      NaN                     NaN                   NaN  \n",
       "1                      NaN                     NaN                   NaN  \n",
       "2                      NaN                     NaN                   NaN  \n",
       "3                      NaN                     NaN                   NaN  \n",
       "4                      NaN                     NaN  LEGAL@THEEGIANTS.COM  \n",
       "\n",
       "[5 rows x 96 columns]"
      ]
     },
     "execution_count": 98,
     "metadata": {},
     "output_type": "execute_result"
    }
   ],
   "source": [
    "#importing data\n",
    "#df = pd.read_csv('Combined_LCA_Disclosure_Data_FY2020_to_FY2024.csv', low_memory=False)\n",
    "df2020 = pd.read_csv('Combined_LCA_Disclosure_Data_FY2020.csv', low_memory=False)\n",
    "df2021 = pd.read_csv('Combined_LCA_Disclosure_Data_FY2021.csv', low_memory=False)\n",
    "df2022 = pd.read_csv('Combined_LCA_Disclosure_Data_FY2022.csv', low_memory=False)\n",
    "df2023 = pd.read_csv('Combined_LCA_Disclosure_Data_FY2023.csv', low_memory=False)\n",
    "df2024 = pd.read_csv('Combined_LCA_Disclosure_Data_FY2024.csv', low_memory=False)\n",
    "all_data = [df2020, df2021,df2022,df2023,df2024]\n",
    "\n",
    "df = pd.concat(all_data)\n",
    "df.head(5)"
   ]
  },
  {
   "cell_type": "code",
   "execution_count": 99,
   "id": "5ab03d2d-98d7-497d-a795-c9a888b491b0",
   "metadata": {},
   "outputs": [],
   "source": [
    "# Delete previous dataframes to free memory\n",
    "del df2020, df2021, df2022, df2023, df2024, all_data"
   ]
  },
  {
   "cell_type": "markdown",
   "id": "cc311b32-6205-4a1e-be5f-77a9d9d5f5e7",
   "metadata": {},
   "source": [
    "## Basic Data Processing "
   ]
  },
  {
   "cell_type": "markdown",
   "id": "3978521b-689a-4811-98f3-688de36abfab",
   "metadata": {},
   "source": [
    "### 1. Finding Annual Wage"
   ]
  },
  {
   "cell_type": "code",
   "execution_count": 104,
   "id": "cb04865e-a429-4efc-b885-4aa4f1346b69",
   "metadata": {},
   "outputs": [
    {
     "name": "stdout",
     "output_type": "stream",
     "text": [
      "['Year' 'Hour' 'Bi-Weekly' nan 'Month' 'Week']\n"
     ]
    }
   ],
   "source": [
    "#Salary Analysis\n",
    "#Clean and convert salaries to numeric, handling outliers\n",
    "\n",
    "unique_units = df['PW_UNIT_OF_PAY'].unique()\n",
    "print(unique_units)"
   ]
  },
  {
   "cell_type": "code",
   "execution_count": 105,
   "id": "03e22fc7-83ec-49aa-9169-2ab12dcf81f3",
   "metadata": {},
   "outputs": [
    {
     "name": "stderr",
     "output_type": "stream",
     "text": [
      "/var/folders/z0/qb5gklfx3495h7m28hm9r8lc0000gn/T/ipykernel_22805/3027307025.py:13: SettingWithCopyWarning: \n",
      "A value is trying to be set on a copy of a slice from a DataFrame.\n",
      "Try using .loc[row_indexer,col_indexer] = value instead\n",
      "\n",
      "See the caveats in the documentation: https://pandas.pydata.org/pandas-docs/stable/user_guide/indexing.html#returning-a-view-versus-a-copy\n",
      "  df['ANNUAL_WAGE'] = df.apply(\n"
     ]
    }
   ],
   "source": [
    "#\"Prevailing Wage\" * conversion factors to find annual wage\n",
    "df['PREVAILING_WAGE'] = pd.to_numeric(df['PREVAILING_WAGE'], errors='coerce')\n",
    "df = df[df['PREVAILING_WAGE'] > 0]  # Filter out non-positive values\n",
    "\n",
    "conversion_factors = {\n",
    "    'Year': 1,            # No Normalization\n",
    "    'Month': 12,          # 12 months in a year\n",
    "    'Bi-Weekly': 26,      # 26 bi-weekly periods in a year\n",
    "    'Week': 52,           # 52 weeks in a year\n",
    "    'Hour': 2080          # 52 weeks in a year x 40 hrs a week\n",
    "}\n",
    "\n",
    "df['ANNUAL_WAGE'] = df.apply(\n",
    "    lambda row: row['PREVAILING_WAGE'] * conversion_factors.get(row['PW_UNIT_OF_PAY'], 1),\n",
    "    axis=1\n",
    ")"
   ]
  },
  {
   "cell_type": "code",
   "execution_count": 106,
   "id": "94481e62-862e-4718-ba5b-a6152dfc670a",
   "metadata": {},
   "outputs": [
    {
     "name": "stdout",
     "output_type": "stream",
     "text": [
      "    PREVAILING_WAGE PW_UNIT_OF_PAY  ANNUAL_WAGE\n",
      "1              39.0           Hour      81120.0\n",
      "2              39.0           Hour      81120.0\n",
      "3              53.0           Hour     110240.0\n",
      "59             28.0           Hour      58240.0\n",
      "60             29.0           Hour      60320.0\n"
     ]
    }
   ],
   "source": [
    "print(df[df['PW_UNIT_OF_PAY'] == 'Hour'][['PREVAILING_WAGE', 'PW_UNIT_OF_PAY', 'ANNUAL_WAGE']].head())"
   ]
  },
  {
   "cell_type": "markdown",
   "id": "50433b2e-eccd-4a8d-88f0-0683dbf54619",
   "metadata": {},
   "source": [
    "### 2. Finding Decision Duration of Applications"
   ]
  },
  {
   "cell_type": "code",
   "execution_count": 137,
   "id": "937a9958-901f-4bf0-8a3a-1bb6fb5ab17b",
   "metadata": {
    "scrolled": true
   },
   "outputs": [],
   "source": [
    "#get the processing time from subtracting decision date and start date and case status is certified\n",
    "#processing the time into usable format\n",
    "df.loc[:, 'BEGIN_DATE'] = pd.to_datetime(df['BEGIN_DATE'])\n",
    "df.loc[:, 'DECISION_DATE'] = pd.to_datetime(df['DECISION_DATE'])\n",
    "df.loc[:, 'RECEIVED_DATE'] = pd.to_datetime(df['RECEIVED_DATE'])\n",
    "\n",
    "#ensure all days are calculated correctly\n",
    "df.loc[:, \"Decision_Duration\"] = np.abs((df[\"DECISION_DATE\"] - df[\"RECEIVED_DATE\"]).dt.days)\n"
   ]
  },
  {
   "cell_type": "markdown",
   "id": "f5fb3c96-56d5-4314-82fb-1768dcee97ea",
   "metadata": {},
   "source": [
    "## Filtering Out DataFrame"
   ]
  },
  {
   "cell_type": "markdown",
   "id": "9db3b8e5-3815-42ae-917c-3d4f460cc3b2",
   "metadata": {},
   "source": [
    "### 1. Selecting Features"
   ]
  },
  {
   "cell_type": "code",
   "execution_count": 112,
   "id": "cc238dee-c2dd-4320-a9ab-e8094e4c367a",
   "metadata": {},
   "outputs": [
    {
     "name": "stdout",
     "output_type": "stream",
     "text": [
      "<class 'pandas.core.frame.DataFrame'>\n",
      "Index: 3562736 entries, 0 to 890367\n",
      "Data columns (total 19 columns):\n",
      " #   Column                       Dtype         \n",
      "---  ------                       -----         \n",
      " 0   CASE_STATUS                  object        \n",
      " 1   SOC_TITLE                    object        \n",
      " 2   ANNUAL_WAGE                  float64       \n",
      " 3   SUPPORT_H1B                  object        \n",
      " 4   H_1B_DEPENDENT               object        \n",
      " 5   EMPLOYER_NAME                object        \n",
      " 6   EMPLOYER_STATE               object        \n",
      " 7   EMPLOYER_CITY                object        \n",
      " 8   AGENT_REPRESENTING_EMPLOYER  object        \n",
      " 9   AGENT_ATTORNEY_STATE         object        \n",
      " 10  AGENT_ATTORNEY_CITY          object        \n",
      " 11  FULL_TIME_POSITION           object        \n",
      " 12  WORKSITE_STATE               object        \n",
      " 13  WORKSITE_CITY                object        \n",
      " 14  WORKSITE_POSTAL_CODE         object        \n",
      " 15  WORKSITE_WORKERS             float64       \n",
      " 16  TOTAL_WORKER_POSITIONS       int64         \n",
      " 17  RECEIVED_DATE                datetime64[ns]\n",
      " 18  Decision_Duration            int64         \n",
      "dtypes: datetime64[ns](1), float64(2), int64(2), object(14)\n",
      "memory usage: 543.6+ MB\n"
     ]
    }
   ],
   "source": [
    "#selecting features based on correlation coefficients from last section\n",
    "selectdf = df.loc[:, \n",
    "    ['CASE_STATUS',\n",
    "     'SOC_TITLE',\n",
    "     'ANNUAL_WAGE',\n",
    "     'SUPPORT_H1B',\n",
    "     'H_1B_DEPENDENT',\n",
    "     'EMPLOYER_NAME',\n",
    "     'EMPLOYER_STATE',\n",
    "     'EMPLOYER_CITY',\n",
    "     'AGENT_REPRESENTING_EMPLOYER',\n",
    "     'AGENT_ATTORNEY_STATE',\n",
    "     'AGENT_ATTORNEY_CITY',\n",
    "     'FULL_TIME_POSITION',\n",
    "     'WORKSITE_STATE',\n",
    "     'WORKSITE_CITY',\n",
    "     'WORKSITE_POSTAL_CODE',\n",
    "     'WORKSITE_WORKERS',\n",
    "     'TOTAL_WORKER_POSITIONS',\n",
    "     'RECEIVED_DATE',\n",
    "     'Decision_Duration'\n",
    "    ]]\n",
    "selectdf.info()"
   ]
  },
  {
   "cell_type": "code",
   "execution_count": 113,
   "id": "28ea9404-a2e9-43f5-ab09-a167c5815831",
   "metadata": {},
   "outputs": [
    {
     "data": {
      "text/plain": [
       "WORKSITE_WORKERS\n",
       "1      3382051\n",
       "10       39484\n",
       "3        23344\n",
       "5        21866\n",
       "25       17134\n",
       "        ...   \n",
       "91           1\n",
       "69           1\n",
       "39           1\n",
       "121          1\n",
       "120          1\n",
       "Name: count, Length: 83, dtype: int64"
      ]
     },
     "execution_count": 113,
     "metadata": {},
     "output_type": "execute_result"
    }
   ],
   "source": [
    "selectdf[\"WORKSITE_WORKERS\"] = selectdf[\"WORKSITE_WORKERS\"].fillna(0).astype(int)\n",
    "selectdf.WORKSITE_WORKERS.value_counts()"
   ]
  },
  {
   "cell_type": "code",
   "execution_count": 114,
   "id": "9735668f-3d9f-402e-8315-8cea6054e2de",
   "metadata": {},
   "outputs": [
    {
     "data": {
      "text/html": [
       "<div>\n",
       "<style scoped>\n",
       "    .dataframe tbody tr th:only-of-type {\n",
       "        vertical-align: middle;\n",
       "    }\n",
       "\n",
       "    .dataframe tbody tr th {\n",
       "        vertical-align: top;\n",
       "    }\n",
       "\n",
       "    .dataframe thead th {\n",
       "        text-align: right;\n",
       "    }\n",
       "</style>\n",
       "<table border=\"1\" class=\"dataframe\">\n",
       "  <thead>\n",
       "    <tr style=\"text-align: right;\">\n",
       "      <th></th>\n",
       "      <th>CASE_STATUS</th>\n",
       "      <th>SOC_TITLE</th>\n",
       "      <th>ANNUAL_WAGE</th>\n",
       "      <th>SUPPORT_H1B</th>\n",
       "      <th>H_1B_DEPENDENT</th>\n",
       "      <th>EMPLOYER_NAME</th>\n",
       "      <th>EMPLOYER_STATE</th>\n",
       "      <th>EMPLOYER_CITY</th>\n",
       "      <th>AGENT_REPRESENTING_EMPLOYER</th>\n",
       "      <th>AGENT_ATTORNEY_STATE</th>\n",
       "      <th>AGENT_ATTORNEY_CITY</th>\n",
       "      <th>FULL_TIME_POSITION</th>\n",
       "      <th>WORKSITE_STATE</th>\n",
       "      <th>WORKSITE_CITY</th>\n",
       "      <th>WORKSITE_POSTAL_CODE</th>\n",
       "      <th>WORKSITE_WORKERS</th>\n",
       "      <th>TOTAL_WORKER_POSITIONS</th>\n",
       "      <th>RECEIVED_DATE</th>\n",
       "      <th>Decision_Duration</th>\n",
       "    </tr>\n",
       "  </thead>\n",
       "  <tbody>\n",
       "    <tr>\n",
       "      <th>0</th>\n",
       "      <td>Certified</td>\n",
       "      <td>COMPUTER OCCUPATIONS, ALL OTHER</td>\n",
       "      <td>95118.0</td>\n",
       "      <td>NaN</td>\n",
       "      <td>N</td>\n",
       "      <td>JO-ANN STORES, INC.</td>\n",
       "      <td>OH</td>\n",
       "      <td>HUDSON</td>\n",
       "      <td>Y</td>\n",
       "      <td>IL</td>\n",
       "      <td>CHICAGO</td>\n",
       "      <td>Y</td>\n",
       "      <td>OH</td>\n",
       "      <td>Hudson</td>\n",
       "      <td>44224</td>\n",
       "      <td>0</td>\n",
       "      <td>1</td>\n",
       "      <td>2019-09-25</td>\n",
       "      <td>6</td>\n",
       "    </tr>\n",
       "    <tr>\n",
       "      <th>1</th>\n",
       "      <td>Certified</td>\n",
       "      <td>SOFTWARE DEVELOPERS, APPLICATIONS</td>\n",
       "      <td>81120.0</td>\n",
       "      <td>Y</td>\n",
       "      <td>Y</td>\n",
       "      <td>DENKEN SOLUTIONS INC.</td>\n",
       "      <td>CA</td>\n",
       "      <td>IRVINE</td>\n",
       "      <td>Y</td>\n",
       "      <td>FL</td>\n",
       "      <td>JACKSONVILLE</td>\n",
       "      <td>Y</td>\n",
       "      <td>TN</td>\n",
       "      <td>BRENTWOOD</td>\n",
       "      <td>37027</td>\n",
       "      <td>0</td>\n",
       "      <td>1</td>\n",
       "      <td>2019-09-25</td>\n",
       "      <td>6</td>\n",
       "    </tr>\n",
       "    <tr>\n",
       "      <th>2</th>\n",
       "      <td>Certified</td>\n",
       "      <td>MECHANICAL ENGINEERS</td>\n",
       "      <td>81120.0</td>\n",
       "      <td>Y</td>\n",
       "      <td>Y</td>\n",
       "      <td>EPITEC, INC.</td>\n",
       "      <td>MI</td>\n",
       "      <td>SOUTHFIELD</td>\n",
       "      <td>Y</td>\n",
       "      <td>MI</td>\n",
       "      <td>TROY</td>\n",
       "      <td>Y</td>\n",
       "      <td>MI</td>\n",
       "      <td>Dearborn</td>\n",
       "      <td>48126</td>\n",
       "      <td>0</td>\n",
       "      <td>1</td>\n",
       "      <td>2019-09-25</td>\n",
       "      <td>6</td>\n",
       "    </tr>\n",
       "    <tr>\n",
       "      <th>3</th>\n",
       "      <td>Certified</td>\n",
       "      <td>SOFTWARE DEVELOPERS, APPLICATIONS</td>\n",
       "      <td>110240.0</td>\n",
       "      <td>Y</td>\n",
       "      <td>Y</td>\n",
       "      <td>SYSTEMS TECHNOLOGY GROUP, INC.</td>\n",
       "      <td>MI</td>\n",
       "      <td>TROY</td>\n",
       "      <td>N</td>\n",
       "      <td>NaN</td>\n",
       "      <td>NaN</td>\n",
       "      <td>Y</td>\n",
       "      <td>MI</td>\n",
       "      <td>Taylor</td>\n",
       "      <td>48180</td>\n",
       "      <td>0</td>\n",
       "      <td>1</td>\n",
       "      <td>2019-09-25</td>\n",
       "      <td>6</td>\n",
       "    </tr>\n",
       "    <tr>\n",
       "      <th>4</th>\n",
       "      <td>Certified</td>\n",
       "      <td>COMPUTER OCCUPATIONS, ALL OTHER</td>\n",
       "      <td>65333.0</td>\n",
       "      <td>Y</td>\n",
       "      <td>Y</td>\n",
       "      <td>E-GIANTS TECHNOLOGIES LLC</td>\n",
       "      <td>IA</td>\n",
       "      <td>CLIVE</td>\n",
       "      <td>N</td>\n",
       "      <td>NaN</td>\n",
       "      <td>NaN</td>\n",
       "      <td>Y</td>\n",
       "      <td>OH</td>\n",
       "      <td>BLUE ASH</td>\n",
       "      <td>45242</td>\n",
       "      <td>0</td>\n",
       "      <td>1</td>\n",
       "      <td>2019-09-25</td>\n",
       "      <td>6</td>\n",
       "    </tr>\n",
       "  </tbody>\n",
       "</table>\n",
       "</div>"
      ],
      "text/plain": [
       "  CASE_STATUS                          SOC_TITLE  ANNUAL_WAGE SUPPORT_H1B  \\\n",
       "0   Certified    COMPUTER OCCUPATIONS, ALL OTHER      95118.0         NaN   \n",
       "1   Certified  SOFTWARE DEVELOPERS, APPLICATIONS      81120.0           Y   \n",
       "2   Certified               MECHANICAL ENGINEERS      81120.0           Y   \n",
       "3   Certified  SOFTWARE DEVELOPERS, APPLICATIONS     110240.0           Y   \n",
       "4   Certified    COMPUTER OCCUPATIONS, ALL OTHER      65333.0           Y   \n",
       "\n",
       "  H_1B_DEPENDENT                   EMPLOYER_NAME EMPLOYER_STATE EMPLOYER_CITY  \\\n",
       "0              N             JO-ANN STORES, INC.             OH        HUDSON   \n",
       "1              Y           DENKEN SOLUTIONS INC.             CA        IRVINE   \n",
       "2              Y                    EPITEC, INC.             MI    SOUTHFIELD   \n",
       "3              Y  SYSTEMS TECHNOLOGY GROUP, INC.             MI          TROY   \n",
       "4              Y       E-GIANTS TECHNOLOGIES LLC             IA         CLIVE   \n",
       "\n",
       "  AGENT_REPRESENTING_EMPLOYER AGENT_ATTORNEY_STATE AGENT_ATTORNEY_CITY  \\\n",
       "0                           Y                   IL             CHICAGO   \n",
       "1                           Y                   FL        JACKSONVILLE   \n",
       "2                           Y                   MI                TROY   \n",
       "3                           N                  NaN                 NaN   \n",
       "4                           N                  NaN                 NaN   \n",
       "\n",
       "  FULL_TIME_POSITION WORKSITE_STATE WORKSITE_CITY WORKSITE_POSTAL_CODE  \\\n",
       "0                  Y             OH        Hudson                44224   \n",
       "1                  Y             TN     BRENTWOOD                37027   \n",
       "2                  Y             MI      Dearborn                48126   \n",
       "3                  Y             MI        Taylor                48180   \n",
       "4                  Y             OH      BLUE ASH                45242   \n",
       "\n",
       "   WORKSITE_WORKERS  TOTAL_WORKER_POSITIONS RECEIVED_DATE  Decision_Duration  \n",
       "0                 0                       1    2019-09-25                  6  \n",
       "1                 0                       1    2019-09-25                  6  \n",
       "2                 0                       1    2019-09-25                  6  \n",
       "3                 0                       1    2019-09-25                  6  \n",
       "4                 0                       1    2019-09-25                  6  "
      ]
     },
     "execution_count": 114,
     "metadata": {},
     "output_type": "execute_result"
    }
   ],
   "source": [
    "selectdf.head(5)"
   ]
  },
  {
   "cell_type": "markdown",
   "id": "2c3f871e-60e9-45f4-ac68-cd9e893e6696",
   "metadata": {},
   "source": [
    "### 2. Filtering \"CASE_STATUS\" for Certified and Withdrawn "
   ]
  },
  {
   "cell_type": "code",
   "execution_count": 115,
   "id": "e3a454a2-7176-4ea3-9708-5b8c1b9e586e",
   "metadata": {},
   "outputs": [
    {
     "name": "stdout",
     "output_type": "stream",
     "text": [
      "CASE_STATUS\n",
      "Certified                3292311\n",
      "Certified - Withdrawn     184634\n",
      "Withdrawn                  64014\n",
      "Denied                     21777\n",
      "Name: count, dtype: int64\n",
      "CASE_STATUS\n",
      "Certified    3292311\n",
      "Denied         21777\n",
      "Name: count, dtype: int64\n"
     ]
    }
   ],
   "source": [
    "#see count before\n",
    "print(selectdf.CASE_STATUS.value_counts())\n",
    "\n",
    "#filter out case status into certifief and withdrawn only\n",
    "#save into selectdf_filtered\n",
    "selectdf_filtered = selectdf[selectdf['CASE_STATUS'].isin(['Certified', 'Denied'])]\n",
    "print(selectdf_filtered.CASE_STATUS.value_counts())"
   ]
  },
  {
   "cell_type": "code",
   "execution_count": 116,
   "id": "35927c22-6514-4353-a5ad-10fb0b136c0f",
   "metadata": {},
   "outputs": [],
   "source": [
    "#free up memory\n",
    "del df, selectdf"
   ]
  },
  {
   "cell_type": "markdown",
   "id": "7b591875-fa98-471e-9b59-30879acaac75",
   "metadata": {},
   "source": [
    "### 3. Transforming DataFrame"
   ]
  },
  {
   "cell_type": "code",
   "execution_count": 139,
   "id": "15c8cbe0-1be9-4d6e-82c0-527f656447ae",
   "metadata": {},
   "outputs": [],
   "source": [
    "'''\n",
    "Preprocessing features\n",
    "#:'Decision_Duration','TOTAL_WORKER_POSITIONS','ANNUAL_WAGE'\n",
    "Categorical:\n",
    "    'CASE_STATUS',\n",
    "    'SOC_TITLE',\n",
    "    'SUPPORT_H1B',\n",
    "    'H_1B_DEPENDENT',\n",
    "    'EMPLOYER_NAME',\n",
    "    'EMPLOYER_STATE',\n",
    "    'EMPLOYER_CITY',\n",
    "    'AGENT_REPRESENTING_EMPLOYER',\n",
    "    'AGENT_ATTORNEY_STATE',\n",
    "    'AGENT_ATTORNEY_CITY',\n",
    "    'FULL_TIME_POSITION',\n",
    "    'WORKSITE_STATE',\n",
    "    'WORKSITE_CITY',\n",
    "    'WORKSITE_POSTAL_CODE',\n",
    "    'RECEIVED_DATE']]\n",
    "'''\n",
    "selectdf_filtered = selectdf_filtered.copy()\n",
    "\n",
    "#Label Encoding for categorical features\n",
    "cat_columns = [\n",
    "    'CASE_STATUS',\n",
    "    'SOC_TITLE',\n",
    "    'SUPPORT_H1B',\n",
    "    'H_1B_DEPENDENT',\n",
    "    'EMPLOYER_NAME',\n",
    "    'EMPLOYER_STATE',\n",
    "    'EMPLOYER_CITY',\n",
    "    'AGENT_REPRESENTING_EMPLOYER',\n",
    "    'AGENT_ATTORNEY_STATE',\n",
    "    'AGENT_ATTORNEY_CITY',\n",
    "    'FULL_TIME_POSITION',\n",
    "    'WORKSITE_STATE',\n",
    "    'WORKSITE_CITY',\n",
    "    'WORKSITE_POSTAL_CODE',\n",
    "    'RECEIVED_DATE'\n",
    "    ]\n",
    "\n",
    "#prevent categories from mismatching\n",
    "label_encoder= {}\n",
    "for col in cat_columns:\n",
    "    label_encoder[col] = LabelEncoder()\n",
    "    selectdf_filtered[col] = label_encoder[col].fit_transform(selectdf_filtered[col])"
   ]
  },
  {
   "cell_type": "code",
   "execution_count": 140,
   "id": "2d56d01a-c6a6-4cf9-a113-464e04b13269",
   "metadata": {},
   "outputs": [
    {
     "name": "stdout",
     "output_type": "stream",
     "text": [
      "CASE_STATUS\n",
      "0    3292311\n",
      "1      21777\n",
      "Name: count, dtype: int64\n",
      "<class 'pandas.core.frame.DataFrame'>\n",
      "Index: 3314088 entries, 0 to 890367\n",
      "Data columns (total 19 columns):\n",
      " #   Column                       Dtype  \n",
      "---  ------                       -----  \n",
      " 0   CASE_STATUS                  int64  \n",
      " 1   SOC_TITLE                    int64  \n",
      " 2   ANNUAL_WAGE                  float64\n",
      " 3   SUPPORT_H1B                  int64  \n",
      " 4   H_1B_DEPENDENT               int64  \n",
      " 5   EMPLOYER_NAME                int64  \n",
      " 6   EMPLOYER_STATE               int64  \n",
      " 7   EMPLOYER_CITY                int64  \n",
      " 8   AGENT_REPRESENTING_EMPLOYER  int64  \n",
      " 9   AGENT_ATTORNEY_STATE         int64  \n",
      " 10  AGENT_ATTORNEY_CITY          int64  \n",
      " 11  FULL_TIME_POSITION           int64  \n",
      " 12  WORKSITE_STATE               int64  \n",
      " 13  WORKSITE_CITY                int64  \n",
      " 14  WORKSITE_POSTAL_CODE         int64  \n",
      " 15  WORKSITE_WORKERS             int64  \n",
      " 16  TOTAL_WORKER_POSITIONS       int64  \n",
      " 17  RECEIVED_DATE                int64  \n",
      " 18  Decision_Duration            int64  \n",
      "dtypes: float64(1), int64(18)\n",
      "memory usage: 505.7 MB\n",
      "None\n"
     ]
    }
   ],
   "source": [
    "print(selectdf_filtered.CASE_STATUS.value_counts())\n",
    "print(selectdf_filtered.info())"
   ]
  },
  {
   "cell_type": "markdown",
   "id": "eafbfd9e-97f7-443c-8a2d-7abd4e532d66",
   "metadata": {},
   "source": [
    "### 4. Defining target and features"
   ]
  },
  {
   "cell_type": "code",
   "execution_count": 141,
   "id": "50fe5317-0295-4da2-a384-1c7aadab464a",
   "metadata": {},
   "outputs": [],
   "source": [
    "# Define target and features\n",
    "target = 'CASE_STATUS'\n",
    "features = ['SOC_TITLE', 'ANNUAL_WAGE', 'SUPPORT_H1B', 'H_1B_DEPENDENT', 'EMPLOYER_NAME', 'EMPLOYER_STATE', \n",
    "            'EMPLOYER_CITY', 'AGENT_REPRESENTING_EMPLOYER', 'AGENT_ATTORNEY_STATE', 'AGENT_ATTORNEY_CITY',\n",
    "            'FULL_TIME_POSITION', 'WORKSITE_STATE', 'WORKSITE_CITY', 'WORKSITE_POSTAL_CODE',\n",
    "            'WORKSITE_WORKERS', 'TOTAL_WORKER_POSITIONS', 'RECEIVED_DATE', 'Decision_Duration']\n",
    "\n",
    "X = selectdf_filtered[features]\n",
    "y = selectdf_filtered[target]\n",
    "\n",
    "#Ensuring y is integer\n",
    "y = y.astype(int)\n",
    "\n",
    "#Test,train,split\n",
    "X_train, X_test, y_train, y_test = train_test_split(X, y, test_size=0.3, random_state=42)"
   ]
  },
  {
   "cell_type": "markdown",
   "id": "9ac75676-c443-400a-8150-f334aa0b25bf",
   "metadata": {},
   "source": [
    "## Models"
   ]
  },
  {
   "cell_type": "markdown",
   "id": "df7b9a7f-5d4b-4731-ba13-fcc025f9b603",
   "metadata": {
    "jp-MarkdownHeadingCollapsed": true
   },
   "source": [
    "### Logistic Regression"
   ]
  },
  {
   "cell_type": "code",
   "execution_count": 147,
   "id": "073cfdfc-3808-4b82-86a0-f0b49cb149a1",
   "metadata": {},
   "outputs": [],
   "source": [
    "#Scaling features for Logistic Regression\n",
    "scaler = StandardScaler()\n",
    "X_train_scaled = scaler.fit_transform(X_train)\n",
    "X_test_scaled  = scaler.transform(X_test)"
   ]
  },
  {
   "cell_type": "code",
   "execution_count": 148,
   "id": "dbfcb016-e4fe-4555-a1aa-6917d1bb6867",
   "metadata": {},
   "outputs": [
    {
     "name": "stdout",
     "output_type": "stream",
     "text": [
      "Accuracy of Logistic Regression(imbalanced): 0.9980497411556918\n",
      "              precision    recall  f1-score   support\n",
      "\n",
      "           0       1.00      1.00      1.00    987767\n",
      "           1       0.94      0.75      0.83      6460\n",
      "\n",
      "    accuracy                           1.00    994227\n",
      "   macro avg       0.97      0.87      0.92    994227\n",
      "weighted avg       1.00      1.00      1.00    994227\n",
      "\n"
     ]
    }
   ],
   "source": [
    "#Model with imbalance data\n",
    "lg_imbalanced = LogisticRegression(max_iter=1000, solver='newton-cg')\n",
    "lg_imbalanced.fit(X_train_scaled, y_train)\n",
    "\n",
    "# Predictions\n",
    "lg_imbalanced_y_pred = lg_imbalanced.predict(X_test_scaled)\n",
    "\n",
    "# Evaluate\n",
    "print(\"Accuracy of Logistic Regression(imbalanced):\",accuracy_score(y_test, lg_imbalanced_y_pred))\n",
    "print(classification_report(y_test, lg_imbalanced_y_pred))"
   ]
  },
  {
   "cell_type": "code",
   "execution_count": 150,
   "id": "67e4a694-e339-464b-b76c-de37f9975b07",
   "metadata": {},
   "outputs": [],
   "source": [
    "#Setting up model with balanced dataset\n",
    "\n",
    "#Balance the dataset using SMOTE\n",
    "smote = SMOTE(random_state=42)\n",
    "X_train_smote, y_train_smote = smote.fit_resample(X_train, y_train)\n",
    "\n",
    "#scale again to ensure it can converge\n",
    "X_train_smote_scaled = scaler.fit_transform(X_train_smote)\n",
    "X_test_scaled = scaler.transform(X_test)"
   ]
  },
  {
   "cell_type": "code",
   "execution_count": 151,
   "id": "ddfbf419",
   "metadata": {},
   "outputs": [
    {
     "name": "stdout",
     "output_type": "stream",
     "text": [
      "Accuracy of Logistic Regression(balanced): 0.9876718294715392\n",
      "              precision    recall  f1-score   support\n",
      "\n",
      "           0       1.00      0.99      0.99    987767\n",
      "           1       0.34      0.92      0.49      6460\n",
      "\n",
      "    accuracy                           0.99    994227\n",
      "   macro avg       0.67      0.95      0.74    994227\n",
      "weighted avg       1.00      0.99      0.99    994227\n",
      "\n"
     ]
    }
   ],
   "source": [
    "#Setting up model with balanced\n",
    "lg = LogisticRegression(max_iter=1000, solver='newton-cg')\n",
    "lg.fit(X_train_smote_scaled, y_train_smote)\n",
    "\n",
    "# Predictions\n",
    "lg_y_pred = lg.predict(X_test_scaled)\n",
    "\n",
    "# Evaluate the model\n",
    "lg_accuracy = accuracy_score(y_test, lg_y_pred)\n",
    "lg_report = classification_report(y_test, lg_y_pred)\n",
    "\n",
    "\n",
    "print(\"Accuracy of Logistic Regression(balanced):\", lg_accuracy)\n",
    "print(lg_report)"
   ]
  },
  {
   "cell_type": "code",
   "execution_count": 152,
   "id": "6947e438-c4a7-477c-9cb8-4f8e9b2493e4",
   "metadata": {},
   "outputs": [
    {
     "data": {
      "image/png": "[encoded data removed]",
      "text/plain": [
       "<Figure size 1200x500 with 4 Axes>"
      ]
     },
     "metadata": {},
     "output_type": "display_data"
    }
   ],
   "source": [
    "#compute confusion matrix and plot\n",
    "def plot_confusion_matrix(y_true, y_pred, title, ax):\n",
    "    cm = confusion_matrix(y_true, y_pred)\n",
    "    cm_percentage = cm.astype('float') / cm.sum(axis=1)[:, np.newaxis] * 100\n",
    "    sns.heatmap(cm_percentage, annot=True, fmt='.2f', cmap='Blues', ax=ax, xticklabels=['Certified', 'Denied'], yticklabels=['Certified', 'Denied'])\n",
    "    ax.set_title(title)\n",
    "    ax.set_xlabel('Predicted')\n",
    "    ax.set_ylabel('Actual')\n",
    "\n",
    "\n",
    "fig, axes = plt.subplots(1, 2, figsize=(12, 5))\n",
    "plot_confusion_matrix(y_test, lg_imbalanced_y_pred, 'LG Confusion Matrix - Imbalanced Model (%)', axes[0])\n",
    "plot_confusion_matrix(y_test, lg_y_pred, 'LG Confusion Matrix - Balanced Model (%)', axes[1])\n",
    "plt.show()"
   ]
  },
  {
   "cell_type": "markdown",
   "id": "743989ce-7b02-4d8d-b3eb-05b32c154ee7",
   "metadata": {},
   "source": [
    "### Neural Network"
   ]
  },
  {
   "cell_type": "code",
   "execution_count": 153,
   "id": "7febad28-3236-43da-a3db-fe13c3fd54de",
   "metadata": {},
   "outputs": [
    {
     "name": "stderr",
     "output_type": "stream",
     "text": [
      "/Users/christie/GitHub/Capstone/.conda/lib/python3.12/site-packages/keras/src/layers/core/dense.py:87: UserWarning: Do not pass an `input_shape`/`input_dim` argument to a layer. When using Sequential models, prefer using an `Input(shape)` object as the first layer in the model instead.\n",
      "  super().__init__(activity_regularizer=activity_regularizer, **kwargs)\n"
     ]
    }
   ],
   "source": [
    "#set up nn\n",
    "def create_nn():\n",
    "    model = Sequential([\n",
    "        Dense(128, activation='relu', input_shape=(X_train.shape[1],)),\n",
    "        BatchNormalization(),\n",
    "        Dropout(0.3),\n",
    "        Dense(64, activation='relu'),\n",
    "        BatchNormalization(),\n",
    "        Dropout(0.3),\n",
    "        Dense(32, activation='relu'),\n",
    "        Dense(1, activation='sigmoid')\n",
    "    ])\n",
    "    model.compile(optimizer='adam', loss='binary_crossentropy', metrics=['accuracy'])\n",
    "    return model\n",
    "\n",
    "model = create_nn()"
   ]
  },
  {
   "cell_type": "code",
   "execution_count": 154,
   "id": "909e52ad-6647-4e37-a65a-bc61d137745d",
   "metadata": {},
   "outputs": [
    {
     "name": "stdout",
     "output_type": "stream",
     "text": [
      "Epoch 1/10\n",
      "\u001b[1m72496/72496\u001b[0m \u001b[32m━━━━━━━━━━━━━━━━━━━━\u001b[0m\u001b[37m\u001b[0m \u001b[1m59s\u001b[0m 804us/step - accuracy: 0.9893 - loss: 0.0479 - val_accuracy: 0.9930 - val_loss: 527.7796\n",
      "Epoch 2/10\n",
      "\u001b[1m72496/72496\u001b[0m \u001b[32m━━━━━━━━━━━━━━━━━━━━\u001b[0m\u001b[37m\u001b[0m \u001b[1m57s\u001b[0m 787us/step - accuracy: 0.9934 - loss: 0.0391 - val_accuracy: 0.9931 - val_loss: 454.3270\n",
      "Epoch 3/10\n",
      "\u001b[1m72496/72496\u001b[0m \u001b[32m━━━━━━━━━━━━━━━━━━━━\u001b[0m\u001b[37m\u001b[0m \u001b[1m56s\u001b[0m 770us/step - accuracy: 0.9935 - loss: 0.0385 - val_accuracy: 0.9930 - val_loss: 8955.0283\n",
      "Epoch 4/10\n",
      "\u001b[1m72496/72496\u001b[0m \u001b[32m━━━━━━━━━━━━━━━━━━━━\u001b[0m\u001b[37m\u001b[0m \u001b[1m54s\u001b[0m 746us/step - accuracy: 0.9934 - loss: 0.0388 - val_accuracy: 0.9931 - val_loss: 5620.1821\n",
      "Epoch 5/10\n",
      "\u001b[1m72496/72496\u001b[0m \u001b[32m━━━━━━━━━━━━━━━━━━━━\u001b[0m\u001b[37m\u001b[0m \u001b[1m55s\u001b[0m 752us/step - accuracy: 0.9933 - loss: 0.0387 - val_accuracy: 0.9930 - val_loss: 3894.6426\n",
      "Epoch 6/10\n",
      "\u001b[1m72496/72496\u001b[0m \u001b[32m━━━━━━━━━━━━━━━━━━━━\u001b[0m\u001b[37m\u001b[0m \u001b[1m54s\u001b[0m 745us/step - accuracy: 0.9935 - loss: 0.0383 - val_accuracy: 0.9933 - val_loss: 23023.8457\n",
      "Epoch 7/10\n",
      "\u001b[1m72496/72496\u001b[0m \u001b[32m━━━━━━━━━━━━━━━━━━━━\u001b[0m\u001b[37m\u001b[0m \u001b[1m55s\u001b[0m 751us/step - accuracy: 0.9934 - loss: 0.0386 - val_accuracy: 0.9932 - val_loss: 27.9554\n",
      "Epoch 8/10\n",
      "\u001b[1m72496/72496\u001b[0m \u001b[32m━━━━━━━━━━━━━━━━━━━━\u001b[0m\u001b[37m\u001b[0m \u001b[1m54s\u001b[0m 751us/step - accuracy: 0.9933 - loss: 0.0389 - val_accuracy: 0.9934 - val_loss: 31.3190\n",
      "Epoch 9/10\n",
      "\u001b[1m72496/72496\u001b[0m \u001b[32m━━━━━━━━━━━━━━━━━━━━\u001b[0m\u001b[37m\u001b[0m \u001b[1m54s\u001b[0m 751us/step - accuracy: 0.9934 - loss: 0.0385 - val_accuracy: 0.9932 - val_loss: 675.2209\n",
      "Epoch 10/10\n",
      "\u001b[1m72496/72496\u001b[0m \u001b[32m━━━━━━━━━━━━━━━━━━━━\u001b[0m\u001b[37m\u001b[0m \u001b[1m54s\u001b[0m 751us/step - accuracy: 0.9935 - loss: 0.0372 - val_accuracy: 0.9934 - val_loss: 691.7526\n",
      "\u001b[1m31070/31070\u001b[0m \u001b[32m━━━━━━━━━━━━━━━━━━━━\u001b[0m\u001b[37m\u001b[0m \u001b[1m7s\u001b[0m 220us/step\n",
      "Imbalanced Neural Network:\n",
      "Accuracy of imbalanced NN: 0.9933777698654331\n",
      "              precision    recall  f1-score   support\n",
      "\n",
      "           0       0.99      1.00      1.00    987767\n",
      "           1       0.11      0.00      0.01      6460\n",
      "\n",
      "    accuracy                           0.99    994227\n",
      "   macro avg       0.55      0.50      0.50    994227\n",
      "weighted avg       0.99      0.99      0.99    994227\n",
      "\n"
     ]
    }
   ],
   "source": [
    "#Train with imbalanced dataset\n",
    "nn_imbalanced = create_nn()\n",
    "nn_imbalanced.fit(X_train, y_train, epochs=10, batch_size=32, validation_data=(X_test, y_test), verbose=1)\n",
    "\n",
    "# Evaluate the imbalanced model\n",
    "nn_y_pred_imbalanced = (nn_imbalanced.predict(X_test) > 0.5).astype(int)\n",
    "\n",
    "print(\"Imbalanced Neural Network:\")\n",
    "print(\"Accuracy of imbalanced NN:\", accuracy_score(y_test, nn_y_pred_imbalanced))\n",
    "print(classification_report(y_test, nn_y_pred_imbalanced))"
   ]
  },
  {
   "cell_type": "code",
   "execution_count": 155,
   "id": "42abd875",
   "metadata": {},
   "outputs": [],
   "source": [
    "#Setting up model with balanced dataset\n",
    "\n",
    "#Balance the dataset using SMOTE\n",
    "smote = SMOTE(random_state=42)\n",
    "X_train_smote, y_train_smote = smote.fit_resample(X_train, y_train)\n",
    "\n",
    "#scaling \n",
    "X_train_smote_scaled = scaler.fit_transform(X_train_smote)\n",
    "X_test_scaled = scaler.transform(X_test)"
   ]
  },
  {
   "cell_type": "code",
   "execution_count": 156,
   "id": "a0509f8c-00bc-4dbd-b090-c8d6953b4e8b",
   "metadata": {},
   "outputs": [
    {
     "name": "stderr",
     "output_type": "stream",
     "text": [
      "/Users/christie/GitHub/Capstone/.conda/lib/python3.12/site-packages/keras/src/layers/core/dense.py:87: UserWarning: Do not pass an `input_shape`/`input_dim` argument to a layer. When using Sequential models, prefer using an `Input(shape)` object as the first layer in the model instead.\n",
      "  super().__init__(activity_regularizer=activity_regularizer, **kwargs)\n"
     ]
    },
    {
     "name": "stdout",
     "output_type": "stream",
     "text": [
      "Epoch 1/10\n",
      "\u001b[1m144034/144034\u001b[0m \u001b[32m━━━━━━━━━━━━━━━━━━━━\u001b[0m\u001b[37m\u001b[0m \u001b[1m90s\u001b[0m 623us/step - accuracy: 0.9872 - loss: 0.0399 - val_accuracy: 0.9881 - val_loss: 0.0243\n",
      "Epoch 2/10\n",
      "\u001b[1m144034/144034\u001b[0m \u001b[32m━━━━━━━━━━━━━━━━━━━━\u001b[0m\u001b[37m\u001b[0m \u001b[1m88s\u001b[0m 609us/step - accuracy: 0.9914 - loss: 0.0257 - val_accuracy: 0.9883 - val_loss: 0.0230\n",
      "Epoch 3/10\n",
      "\u001b[1m144034/144034\u001b[0m \u001b[32m━━━━━━━━━━━━━━━━━━━━\u001b[0m\u001b[37m\u001b[0m \u001b[1m88s\u001b[0m 608us/step - accuracy: 0.9917 - loss: 0.0242 - val_accuracy: 0.9903 - val_loss: 0.0218\n",
      "Epoch 4/10\n",
      "\u001b[1m144034/144034\u001b[0m \u001b[32m━━━━━━━━━━━━━━━━━━━━\u001b[0m\u001b[37m\u001b[0m \u001b[1m88s\u001b[0m 609us/step - accuracy: 0.9919 - loss: 0.0235 - val_accuracy: 0.9907 - val_loss: 0.0210\n",
      "Epoch 5/10\n",
      "\u001b[1m144034/144034\u001b[0m \u001b[32m━━━━━━━━━━━━━━━━━━━━\u001b[0m\u001b[37m\u001b[0m \u001b[1m88s\u001b[0m 609us/step - accuracy: 0.9921 - loss: 0.0229 - val_accuracy: 0.9900 - val_loss: 0.0200\n",
      "Epoch 6/10\n",
      "\u001b[1m144034/144034\u001b[0m \u001b[32m━━━━━━━━━━━━━━━━━━━━\u001b[0m\u001b[37m\u001b[0m \u001b[1m88s\u001b[0m 609us/step - accuracy: 0.9922 - loss: 0.0224 - val_accuracy: 0.9905 - val_loss: 0.0209\n",
      "Epoch 7/10\n",
      "\u001b[1m144034/144034\u001b[0m \u001b[32m━━━━━━━━━━━━━━━━━━━━\u001b[0m\u001b[37m\u001b[0m \u001b[1m89s\u001b[0m 615us/step - accuracy: 0.9923 - loss: 0.0223 - val_accuracy: 0.9892 - val_loss: 0.0229\n",
      "Epoch 8/10\n",
      "\u001b[1m144034/144034\u001b[0m \u001b[32m━━━━━━━━━━━━━━━━━━━━\u001b[0m\u001b[37m\u001b[0m \u001b[1m89s\u001b[0m 616us/step - accuracy: 0.9925 - loss: 0.0219 - val_accuracy: 0.9909 - val_loss: 0.0188\n",
      "Epoch 9/10\n",
      "\u001b[1m144034/144034\u001b[0m \u001b[32m━━━━━━━━━━━━━━━━━━━━\u001b[0m\u001b[37m\u001b[0m \u001b[1m89s\u001b[0m 617us/step - accuracy: 0.9925 - loss: 0.0219 - val_accuracy: 0.9910 - val_loss: 0.0181\n",
      "Epoch 10/10\n",
      "\u001b[1m144034/144034\u001b[0m \u001b[32m━━━━━━━━━━━━━━━━━━━━\u001b[0m\u001b[37m\u001b[0m \u001b[1m89s\u001b[0m 618us/step - accuracy: 0.9926 - loss: 0.0216 - val_accuracy: 0.9893 - val_loss: 0.0206\n",
      "\u001b[1m31070/31070\u001b[0m \u001b[32m━━━━━━━━━━━━━━━━━━━━\u001b[0m\u001b[37m\u001b[0m \u001b[1m7s\u001b[0m 222us/step\n",
      "Balanced Neural Network with SMOTE:\n",
      "Accuracy of balanced NN: 0.9892982186160706\n",
      "              precision    recall  f1-score   support\n",
      "\n",
      "           0       1.00      0.99      0.99    987767\n",
      "           1       0.37      0.95      0.54      6460\n",
      "\n",
      "    accuracy                           0.99    994227\n",
      "   macro avg       0.69      0.97      0.77    994227\n",
      "weighted avg       1.00      0.99      0.99    994227\n",
      "\n"
     ]
    }
   ],
   "source": [
    "#Train balanced dataset\n",
    "nn_balanced = create_nn()\n",
    "nn_balanced.fit(X_train_smote_scaled, y_train_smote, epochs=10, batch_size=32, validation_data=(X_test_scaled, y_test), verbose=1)\n",
    "\n",
    "# Evaluate the balanced model\n",
    "nn_y_pred_balanced = (nn_balanced.predict(X_test_scaled) > 0.5).astype(int)\n",
    "print(\"Balanced Neural Network with SMOTE:\")\n",
    "print(\"Accuracy of balanced NN:\", accuracy_score(y_test, nn_y_pred_balanced))\n",
    "print(classification_report(y_test, nn_y_pred_balanced))"
   ]
  },
  {
   "cell_type": "code",
   "execution_count": 157,
   "id": "f6b22e0a-86e5-48fd-a373-9ea1de32a1fc",
   "metadata": {},
   "outputs": [
    {
     "data": {
      "image/png": "[encoded data removed]",
      "text/plain": [
       "<Figure size 1200x500 with 4 Axes>"
      ]
     },
     "metadata": {},
     "output_type": "display_data"
    }
   ],
   "source": [
    "#compute and plot confusion matrix\n",
    "fig, axes = plt.subplots(1, 2, figsize=(12, 5))\n",
    "plot_confusion_matrix(y_test, nn_y_pred_imbalanced, 'NN Confusion Matrix - Imbalanced Model (%)', axes[0])\n",
    "plot_confusion_matrix(y_test, nn_y_pred_balanced, 'NN Confusion Matrix - Balanced Model (%)', axes[1])\n",
    "plt.show()\n"
   ]
  },
  {
   "cell_type": "markdown",
   "id": "ea983b94-adb6-48f7-b6d6-7ab92855a2ee",
   "metadata": {},
   "source": [
    "### XGBoost"
   ]
  },
  {
   "cell_type": "code",
   "execution_count": 158,
   "id": "beb58680-39e9-4a78-ab97-29e69b199a4a",
   "metadata": {},
   "outputs": [
    {
     "name": "stdout",
     "output_type": "stream",
     "text": [
      "XGBoost_Imbalanced_Accuracy: 0.9988473457268813\n",
      "              precision    recall  f1-score   support\n",
      "\n",
      "           0       1.00      1.00      1.00    987767\n",
      "           1       0.98      0.84      0.90      6460\n",
      "\n",
      "    accuracy                           1.00    994227\n",
      "   macro avg       0.99      0.92      0.95    994227\n",
      "weighted avg       1.00      1.00      1.00    994227\n",
      "\n"
     ]
    }
   ],
   "source": [
    "# Initialize and train XGBoost model\n",
    "xgb_model_imbalanced = XGBClassifier(eval_metric='logloss')\n",
    "xgb_model_imbalanced.fit(X_train, y_train)\n",
    "\n",
    "# Predictions and evaluation\n",
    "yXGB_pred_imbalanced = xgb_model_imbalanced.predict(X_test)\n",
    "print(\"XGBoost_Imbalanced_Accuracy:\", accuracy_score(y_test, yXGB_pred_imbalanced))\n",
    "print(classification_report(y_test, yXGB_pred_imbalanced))"
   ]
  },
  {
   "cell_type": "code",
   "execution_count": 159,
   "id": "0b70f62e-e101-4e99-b717-eed5be47c9c5",
   "metadata": {},
   "outputs": [
    {
     "name": "stdout",
     "output_type": "stream",
     "text": [
      "XGBoost_Balanced_Accuracy_: 0.9928034543419159\n",
      "              precision    recall  f1-score   support\n",
      "\n",
      "           0       1.00      0.99      1.00    987767\n",
      "           1       0.47      0.97      0.64      6460\n",
      "\n",
      "    accuracy                           0.99    994227\n",
      "   macro avg       0.74      0.98      0.82    994227\n",
      "weighted avg       1.00      0.99      0.99    994227\n",
      "\n"
     ]
    }
   ],
   "source": [
    "# Apply oversampling to balance the dataset\n",
    "ros = RandomOverSampler(random_state=42)\n",
    "X_resampled, y_resampled = ros.fit_resample(X_train, y_train)\n",
    "\n",
    "# Train XGBoost with balanced data\n",
    "xgb_model_balanced = XGBClassifier(eval_metric='logloss')\n",
    "xgb_model_balanced.fit(X_resampled, y_resampled)\n",
    "\n",
    "# Predictions and evaluation\n",
    "yXGB_pred_balanced = xgb_model_balanced.predict(X_test)\n",
    "print(\"XGBoost_Balanced_Accuracy_:\", accuracy_score(y_test, yXGB_pred_balanced))\n",
    "print(classification_report(y_test, yXGB_pred_balanced))"
   ]
  },
  {
   "cell_type": "code",
   "execution_count": 165,
   "id": "09949132-4954-4321-a612-b8250bc204cf",
   "metadata": {},
   "outputs": [
    {
     "data": {
      "image/png": "[encoded data removed]",
      "text/plain": [
       "<Figure size 1200x500 with 4 Axes>"
      ]
     },
     "metadata": {},
     "output_type": "display_data"
    }
   ],
   "source": [
    "# Visualization\n",
    "fig, axes = plt.subplots(1, 2, figsize=(12, 5))\n",
    "plot_confusion_matrix(y_test, yXGB_pred_imbalanced, 'XGB Confusion Matrix - Imbalanced Model (%)', axes[0])\n",
    "plot_confusion_matrix(y_test, yXGB_pred_balanced, 'XGB Confusion Matrix - Balanced Model (%)', axes[1])\n",
    "plt.show()"
   ]
  },
  {
   "cell_type": "markdown",
   "id": "34f0aa90-445e-4992-87ef-abd1d55b69a7",
   "metadata": {},
   "source": [
    "The comparison between the imbalanced and balanced models reveals that the balanced model is more suitable for the H1B visa certification prediction task. The imbalanced model, trained on the original dataset with a high prevalence of certified cases, exhibited strong bias towards the majority class, correctly classifying 99.99% of certified cases but only 8.02% of denied cases. This model's high false negative rate significantly undermines its reliability for predicting certification outcomes. In contrast, the balanced model, trained with oversampled data, demonstrated a more equitable performance, correctly identifying 82.62% of certified cases and 75.60% of denied cases. Although the balanced model introduced a slight increase in false negatives, its improved ability to correctly classify certified cases makes it the preferred choice. The balanced model's enhanced predictive capability for the minority class is crucial in the context of H1B visa analysis, where accurate identification of certification outcomes is essential for meaningful insights and decision-making."
   ]
  },
  {
   "cell_type": "markdown",
   "id": "16193de7-d204-43a2-831d-16a0a3b241c3",
   "metadata": {},
   "source": [
    "### Random Forest"
   ]
  },
  {
   "cell_type": "code",
   "execution_count": 162,
   "id": "4f412ef4-5b3a-481a-9acd-506a4a215449",
   "metadata": {},
   "outputs": [
    {
     "name": "stdout",
     "output_type": "stream",
     "text": [
      "Accuracy_Random Forest: 0.9988895896007652\n",
      "              precision    recall  f1-score   support\n",
      "\n",
      "           0       1.00      1.00      1.00    987767\n",
      "           1       0.99      0.84      0.91      6460\n",
      "\n",
      "    accuracy                           1.00    994227\n",
      "   macro avg       1.00      0.92      0.95    994227\n",
      "weighted avg       1.00      1.00      1.00    994227\n",
      "\n"
     ]
    }
   ],
   "source": [
    "# Initialize and train Random Forest model\n",
    "rf_model_imbalanced = RandomForestClassifier(n_estimators=100, random_state=42)\n",
    "rf_model_imbalanced.fit(X_train, y_train)\n",
    "\n",
    "# Predictions and evaluation\n",
    "yRF_pred_imbalanced = rf_model_imbalanced.predict(X_test)\n",
    "print(\"Accuracy_Random Forest:\", accuracy_score(y_test, yRF_pred_imbalanced))\n",
    "print(classification_report(y_test, yRF_pred_imbalanced))"
   ]
  },
  {
   "cell_type": "code",
   "execution_count": 163,
   "id": "29327e8a-5e74-46d3-9771-dd62c6d41a6f",
   "metadata": {},
   "outputs": [
    {
     "name": "stdout",
     "output_type": "stream",
     "text": [
      "Accuracy_Random Forest: 0.9988634386312181\n",
      "              precision    recall  f1-score   support\n",
      "\n",
      "           0       1.00      1.00      1.00    987767\n",
      "           1       0.98      0.85      0.91      6460\n",
      "\n",
      "    accuracy                           1.00    994227\n",
      "   macro avg       0.99      0.92      0.95    994227\n",
      "weighted avg       1.00      1.00      1.00    994227\n",
      "\n"
     ]
    }
   ],
   "source": [
    "# Initialize and train Random Forest model with balanced train dataset\n",
    "rf_model_balanced = RandomForestClassifier(n_estimators=100, random_state=42)\n",
    "rf_model_balanced.fit(X_resampled, y_resampled)\n",
    "\n",
    "# Predictions and evaluation\n",
    "yRF_pred_balanced = rf_model_balanced.predict(X_test)\n",
    "print(\"Accuracy_Random Forest:\", accuracy_score(y_test, yRF_pred_balanced))\n",
    "print(classification_report(y_test, yRF_pred_balanced))"
   ]
  },
  {
   "cell_type": "code",
   "execution_count": 164,
   "id": "33eedb63-e006-469e-933e-bb2fcdbb5ccb",
   "metadata": {},
   "outputs": [
    {
     "data": {
      "image/png": "[encoded data removed]",
      "text/plain": [
       "<Figure size 1200x500 with 4 Axes>"
      ]
     },
     "metadata": {},
     "output_type": "display_data"
    }
   ],
   "source": [
    "# Visualization \n",
    "fig, axes = plt.subplots(1, 2, figsize=(12, 5))\n",
    "plot_confusion_matrix(y_test, yRF_pred_imbalanced, 'RF Confusion Matrix - Imbalanced Model (%)', axes[0])\n",
    "plot_confusion_matrix(y_test, yRF_pred_balanced, 'RF Confusion Matrix - Balanced Model (%)', axes[1])\n",
    "plt.show()"
   ]
  },
  {
   "cell_type": "code",
   "execution_count": null,
   "id": "ba0e8ccf",
   "metadata": {},
   "outputs": [],
   "source": []
  }
 ],
 "metadata": {
  "kernelspec": {
   "display_name": "Python 3",
   "language": "python",
   "name": "python3"
  },
  "language_info": {
   "codemirror_mode": {
    "name": "ipython",
    "version": 3
   },
   "file_extension": ".py",
   "mimetype": "text/x-python",
   "name": "python",
   "nbconvert_exporter": "python",
   "pygments_lexer": "ipython3",
   "version": "3.12.8"
  }
 },
 "nbformat": 4,
 "nbformat_minor": 5
}
